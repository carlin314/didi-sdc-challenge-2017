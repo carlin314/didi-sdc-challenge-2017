{
 "cells": [
  {
   "cell_type": "code",
   "execution_count": 1,
   "metadata": {
    "collapsed": true,
    "deletable": true,
    "editable": true
   },
   "outputs": [],
   "source": [
    "import rosbag\n",
    "import cv2\n",
    "from cv_bridge import CvBridge\n",
    "import os\n",
    "from fnmatch import fnmatch\n",
    "import tf\n",
    "import rospy\n",
    "import rosbag\n",
    "from tf2_msgs.msg import TFMessage\n",
    "from std_msgs.msg import Header\n",
    "from sensor_msgs.msg import CameraInfo, Imu, PointField, NavSatFix\n",
    "import sensor_msgs.point_cloud2 as pc2\n",
    "from geometry_msgs.msg import TransformStamped, TwistStamped, Transform\n",
    "from cv_bridge import CvBridge\n",
    "import numpy as np\n",
    "from python_pointclouds import pointclouds\n",
    "\n",
    "%matplotlib inline\n",
    "\n",
    "import matplotlib as mpl\n",
    "from mpl_toolkits.mplot3d import Axes3D\n",
    "import numpy as np\n",
    "import matplotlib.pyplot as plt"
   ]
  },
  {
   "cell_type": "code",
   "execution_count": 2,
   "metadata": {
    "collapsed": true,
    "deletable": true,
    "editable": true
   },
   "outputs": [],
   "source": [
    "bag_file_dir = '/media/sf_vol/didi/Didi-Training-Release-1'\n"
   ]
  },
  {
   "cell_type": "markdown",
   "metadata": {
    "deletable": true,
    "editable": true
   },
   "source": [
    "* Work through the bag files and show what's in them"
   ]
  },
  {
   "cell_type": "code",
   "execution_count": 31,
   "metadata": {
    "collapsed": false,
    "deletable": true,
    "editable": true,
    "scrolled": true
   },
   "outputs": [
    {
     "name": "stdout",
     "output_type": "stream",
     "text": [
      "Processing bag 5mph.bag\n",
      "  Topics: ['/diagnostics_toplevel_state', '/gps/rtkfix', '/cloud_nodelet/parameter_descriptions', '/obs1/gps/rtkfix', '/gps/time', '/image_raw', '/radar/points', '/rosout', '/obs1/gps/time', '/tf', '/velodyne_points', '/velodyne_packets', '/velodyne_nodelet_manager/bond', '/obs1/gps/fix', '/gps/fix', '/radar/tracks', '/diagnostics', '/cloud_nodelet/parameter_updates', '/radar/range', '/diagnostics_agg']\n",
      "Processing bag approach_1.bag\n",
      "  Topics: ['/diagnostics_toplevel_state', '/gps/rtkfix', '/cloud_nodelet/parameter_descriptions', '/obs1/gps/rtkfix', '/gps/time', '/image_raw', '/radar/points', '/rosout', '/obs1/gps/time', '/tf', '/velodyne_points', '/velodyne_packets', '/velodyne_nodelet_manager/bond', '/obs1/gps/fix', '/gps/fix', '/radar/tracks', '/diagnostics', '/cloud_nodelet/parameter_updates', '/radar/range', '/diagnostics_agg']\n",
      "Processing bag approach_2.bag\n",
      "  Topics: ['/diagnostics_toplevel_state', '/gps/rtkfix', '/cloud_nodelet/parameter_descriptions', '/obs1/gps/rtkfix', '/gps/time', '/image_raw', '/radar/points', '/rosout', '/obs1/gps/time', '/tf', '/velodyne_points', '/velodyne_packets', '/velodyne_nodelet_manager/bond', '/obs1/gps/fix', '/gps/fix', '/radar/tracks', '/diagnostics', '/cloud_nodelet/parameter_updates', '/radar/range', '/diagnostics_agg']\n",
      "Processing bag approach_3.bag\n",
      "  Topics: ['/diagnostics_toplevel_state', '/gps/rtkfix', '/cloud_nodelet/parameter_descriptions', '/obs1/gps/rtkfix', '/gps/time', '/image_raw', '/radar/points', '/rosout', '/obs1/gps/time', '/tf', '/velodyne_points', '/velodyne_packets', '/velodyne_nodelet_manager/bond', '/obs1/gps/fix', '/gps/fix', '/radar/tracks', '/diagnostics', '/cloud_nodelet/parameter_updates', '/radar/range', '/diagnostics_agg']\n",
      "Processing bag corner_pass.bag\n",
      "  Topics: ['/diagnostics_toplevel_state', '/gps/rtkfix', '/cloud_nodelet/parameter_descriptions', '/obs1/gps/rtkfix', '/gps/time', '/image_raw', '/radar/points', '/rosout', '/obs1/gps/time', '/tf', '/velodyne_points', '/velodyne_packets', '/velodyne_nodelet_manager/bond', '/obs1/gps/fix', '/gps/fix', '/radar/tracks', '/diagnostics', '/cloud_nodelet/parameter_updates', '/radar/range', '/diagnostics_agg']\n",
      "Processing bag intersection_1.bag\n",
      "  Topics: ['/diagnostics_toplevel_state', '/gps/rtkfix', '/cloud_nodelet/parameter_descriptions', '/obs1/gps/rtkfix', '/gps/time', '/image_raw', '/radar/points', '/rosout', '/obs1/gps/time', '/tf', '/velodyne_points', '/velodyne_packets', '/velodyne_nodelet_manager/bond', '/obs1/gps/fix', '/gps/fix', '/radar/tracks', '/diagnostics', '/cloud_nodelet/parameter_updates', '/radar/range', '/diagnostics_agg']\n",
      "Processing bag overtake.bag\n",
      "  Topics: ['/diagnostics_toplevel_state', '/gps/rtkfix', '/cloud_nodelet/parameter_descriptions', '/obs1/gps/rtkfix', '/gps/time', '/image_raw', '/radar/points', '/rosout', '/obs1/gps/time', '/tf', '/velodyne_points', '/velodyne_packets', '/velodyne_nodelet_manager/bond', '/obs1/gps/fix', '/gps/fix', '/radar/tracks', '/diagnostics', '/cloud_nodelet/parameter_updates', '/radar/range', '/diagnostics_agg']\n",
      "Processing bag sitting.bag\n",
      "  Topics: ['/diagnostics_toplevel_state', '/gps/rtkfix', '/cloud_nodelet/parameter_descriptions', '/obs1/gps/rtkfix', '/gps/time', '/image_raw', '/radar/points', '/rosout', '/obs1/gps/time', '/tf', '/velodyne_points', '/velodyne_packets', '/velodyne_nodelet_manager/bond', '/obs1/gps/fix', '/gps/fix', '/radar/tracks', '/diagnostics', '/cloud_nodelet/parameter_updates', '/radar/range', '/diagnostics_agg']\n",
      "Processing bag spin.bag\n",
      "  Topics: ['/diagnostics_toplevel_state', '/gps/rtkfix', '/cloud_nodelet/parameter_descriptions', '/obs1/gps/rtkfix', '/gps/time', '/image_raw', '/radar/points', '/rosout', '/obs1/gps/time', '/tf', '/velodyne_points', '/velodyne_packets', '/velodyne_nodelet_manager/bond', '/obs1/gps/fix', '/gps/fix', '/radar/tracks', '/diagnostics', '/cloud_nodelet/parameter_updates', '/radar/range', '/diagnostics_agg']\n",
      "Processing bag spin_3.bag\n",
      "  Topics: ['/diagnostics_toplevel_state', '/gps/rtkfix', '/cloud_nodelet/parameter_descriptions', '/obs1/gps/rtkfix', '/gps/time', '/image_raw', '/radar/points', '/rosout', '/obs1/gps/time', '/tf', '/velodyne_points', '/velodyne_packets', '/velodyne_nodelet_manager/bond', '/obs1/gps/fix', '/gps/fix', '/radar/tracks', '/diagnostics', '/cloud_nodelet/parameter_updates', '/radar/range', '/diagnostics_agg']\n",
      "Processing bag spin_shoreline.bag\n",
      "  Topics: ['/diagnostics_toplevel_state', '/gps/rtkfix', '/cloud_nodelet/parameter_descriptions', '/obs1/gps/rtkfix', '/gps/time', '/image_raw', '/radar/points', '/rosout', '/obs1/gps/time', '/tf', '/velodyne_points', '/velodyne_packets', '/velodyne_nodelet_manager/bond', '/obs1/gps/fix', '/gps/fix', '/radar/tracks', '/diagnostics', '/cloud_nodelet/parameter_updates', '/radar/range', '/diagnostics_agg']\n"
     ]
    }
   ],
   "source": [
    "files = os.listdir(bag_file_dir)\n",
    "for file in files:\n",
    "    if fnmatch(file, '*.bag'):\n",
    "        print ('Processing bag {}'.format(file))\n",
    "        bag = rosbag.Bag(os.path.join(bag_file_dir, file))\n",
    "        info = bag.get_type_and_topic_info()[1]\n",
    "        topics = info.keys()\n",
    "        #print ('  Topics: {}'.format(topics))\n",
    "        #for topic in topics:\n",
    "        #    print ('Topic {}: {}'.format(topic, info[topic]))\n",
    "        #print ('*'*20)            \n",
    "        \n",
    "        "
   ]
  },
  {
   "cell_type": "markdown",
   "metadata": {
    "deletable": true,
    "editable": true
   },
   "source": [
    "Extract the following data:\n",
    "    \n",
    "* rtkfix is thh cartesian coordinates of 'things' (what?)\n",
    "* /gps/rtkfix also includes the capture vehicle\n",
    "* /obs1/ topic namespace is the obstacle (will be renamed)\n",
    "* /velodyne_packets and /velodyne points both available (points won't be in later releases!!)\n",
    "\n"
   ]
  },
  {
   "cell_type": "markdown",
   "metadata": {
    "deletable": true,
    "editable": true
   },
   "source": [
    "More detailed investigation of a single bag...\n",
    "\n",
    "*TODO* Turn this into a function\n"
   ]
  },
  {
   "cell_type": "code",
   "execution_count": null,
   "metadata": {
    "collapsed": false,
    "deletable": true,
    "editable": true
   },
   "outputs": [],
   "source": []
  },
  {
   "cell_type": "code",
   "execution_count": 7,
   "metadata": {
    "collapsed": true,
    "deletable": true,
    "editable": true
   },
   "outputs": [],
   "source": [
    "from sensor_msgs.msg import PointCloud2, PointField\n",
    "import numpy as np\n",
    "import struct\n",
    "\n",
    "fmt_full = ''\n",
    "\n",
    "_DATATYPES = {}\n",
    "_DATATYPES[PointField.INT8]    = ('b', 1)\n",
    "_DATATYPES[PointField.UINT8]   = ('B', 1)\n",
    "_DATATYPES[PointField.INT16]   = ('h', 2)\n",
    "_DATATYPES[PointField.UINT16]  = ('H', 2)\n",
    "_DATATYPES[PointField.INT32]   = ('i', 4)\n",
    "_DATATYPES[PointField.UINT32]  = ('I', 4)\n",
    "_DATATYPES[PointField.FLOAT32] = ('f', 4)\n",
    "_DATATYPES[PointField.FLOAT64] = ('d', 8)\n",
    "\n",
    "_NP_TYPES = {\n",
    "    np.dtype('uint8')   :   (PointField.UINT8,  1),\n",
    "    np.dtype('int8')    :   (PointField.INT8,   1),\n",
    "    np.dtype('uint16')  :   (PointField.UINT16, 2),\n",
    "    np.dtype('int16')   :   (PointField.INT16,  2),\n",
    "    np.dtype('uint32')  :   (PointField.UINT32, 4),\n",
    "    np.dtype('int32')   :   (PointField.INT32,  4),\n",
    "    np.dtype('float32') :   (PointField.FLOAT32,4),\n",
    "    np.dtype('float64') :   (PointField.FLOAT64,8)\n",
    "}\n",
    "\n",
    "def pointcloud2_to_array(msg):\n",
    "    global fmt_full\n",
    "    if not fmt_full:\n",
    "        fmt = _get_struct_fmt(msg)\n",
    "        fmt_full = '>' if msg.is_bigendian else '<' + fmt.strip('<>')*msg.width*msg.height\n",
    "    # import pdb; pdb.set_trace()\n",
    "    unpacker = struct.Struct(fmt_full)\n",
    "    unpacked = np.asarray(unpacker.unpack_from(msg.data))\n",
    "    return unpacked\n",
    "    # unpacked.reshape(msg.height, msg.width, len(msg.fields))\n",
    "\n",
    "def _get_struct_fmt(cloud, field_names=None):\n",
    "    fmt = '>' if cloud.is_bigendian else '<'\n",
    "    #print 'bigendian={}'.format(fmt)\n",
    "    offset = 0\n",
    "    for field in (f for f in sorted(cloud.fields, key=lambda f: f.offset) if field_names is None or f.name in field_names):\n",
    "        #print field\n",
    "        if offset < field.offset:\n",
    "            fmt += 'x' * (field.offset - offset)\n",
    "            offset = field.offset\n",
    "        if field.datatype not in _DATATYPES:\n",
    "            print >> sys.stderr, 'Skipping unknown PointField datatype [%d]' % field.datatype\n",
    "        else:\n",
    "            datatype_fmt, datatype_length = _DATATYPES[field.datatype]\n",
    "            fmt    += field.count * datatype_fmt\n",
    "            offset += field.count * datatype_length\n",
    "\n",
    "    #print 'return fmt={}'.format(fmt)\n",
    "    return fmt"
   ]
  },
  {
   "cell_type": "code",
   "execution_count": 3,
   "metadata": {
    "collapsed": false,
    "deletable": true,
    "editable": true,
    "scrolled": true
   },
   "outputs": [
    {
     "name": "stdout",
     "output_type": "stream",
     "text": [
      "topic: /image_raw\n",
      "topic: /gps/rtkfix\n",
      "topic: /image_raw\n",
      "topic: /velodyne_points\n",
      "Processed 1 messages\n"
     ]
    }
   ],
   "source": [
    "bag = rosbag.Bag(os.path.join(bag_file_dir, 'overtake.bag'))\n",
    "cvbridge = CvBridge()\n",
    "count = 0\n",
    "gps_count = 0\n",
    "images = []\n",
    "point_clouds = []\n",
    "_gps_fix = []\n",
    "_obs1_gps_fix = []\n",
    "\n",
    "for topic, msg, t in bag.read_messages(\n",
    "    topics = [\n",
    "        #'/gps/time',\n",
    "        '/gps/fix',\n",
    "        '/gps/rtkfix',\n",
    "        '/obs1/gps/fix',\n",
    "        '/image_raw',\n",
    "        '/velodyne_points' #,\n",
    "        #'/velodyne_packets',\n",
    "        #'/radar/range',\n",
    "        #'/radar/points',\n",
    "        #'/radar/tracks'\n",
    "    ]):\n",
    "    print ('topic: {}'.format(topic))\n",
    "    if topic == '/image_raw':\n",
    "        img = cvbridge.imgmsg_to_cv2(msg, \"bgr8\")\n",
    "        cv2.imshow('raw image',img)\n",
    "        key = cv2.waitKey(1)\n",
    "    elif topic == '/velodyne_points':\n",
    "        #print ('*'*50)\n",
    "        #print (msg)\n",
    "        #title = 'points'\n",
    "        #img = np.array([x,z]\n",
    "        point_clouds.append(msg)\n",
    "        images.append(img) # Get the image closest to the point cloud we have (testing this works!)\n",
    "        count +=1 \n",
    "        \n",
    "        lidar = pc2.read_points(msg)\n",
    "        lidar = np.array(list(lidar))\n",
    "        break\n",
    "    elif topic == '/obs1/gps/fix':\n",
    "        #print ('/obs1/gps/fix')\n",
    "        #print (msg)\n",
    "        #print ('*'*20)\n",
    "        latitude = msg.latitude\n",
    "        longitude = msg.longitude\n",
    "        altitude = msg.altitude\n",
    "        _obs1_gps_fix.append((latitude, longitude, altitude))\n",
    "        #gps_count +=1\n",
    "    elif topic == '/gps/fix':\n",
    "        #print ('/gps/fix')\n",
    "        #print (msg)\n",
    "        #print ('*'*20)\n",
    "        latitude = msg.latitude\n",
    "        longitude = msg.longitude\n",
    "        altitude = msg.altitude\n",
    "        _gps_fix.append((latitude, longitude, altitude))\n",
    "        #gps_count +=1\n",
    "    #else:\n",
    "        #print ('topic: {}'.format(topic))\n",
    "    #if gps_count == 5:\n",
    "    #    break\n",
    "\n",
    "\n",
    "print \"Processed {} messages\".format(count)\n",
    "\n",
    "gps_fix = np.array(_gps_fix) #.transpose()\n",
    "obs1_gps_fix = np.array(_obs1_gps_fix) #.transpose()\n",
    "\n",
    "    "
   ]
  },
  {
   "cell_type": "code",
   "execution_count": 4,
   "metadata": {
    "collapsed": false,
    "deletable": true,
    "editable": true
   },
   "outputs": [
    {
     "name": "stdout",
     "output_type": "stream",
     "text": [
      "1\n",
      "1\n",
      "(0,)\n",
      "(0,)\n"
     ]
    }
   ],
   "source": [
    "print len(point_clouds)\n",
    "print len(images)\n",
    "print gps_fix.shape\n",
    "print obs1_gps_fix.shape"
   ]
  },
  {
   "cell_type": "code",
   "execution_count": 5,
   "metadata": {
    "collapsed": false,
    "deletable": true,
    "editable": true
   },
   "outputs": [
    {
     "name": "stdout",
     "output_type": "stream",
     "text": [
      "10909\n",
      "1490150408\n",
      "seq: 10909\n",
      "stamp: \n",
      "  secs: 1490150408\n",
      "  nsecs: 233622000\n",
      "frame_id: velodyne\n"
     ]
    }
   ],
   "source": [
    "print msg.header.seq\n",
    "print msg.header.stamp.secs\n",
    "print msg.header\n"
   ]
  },
  {
   "cell_type": "code",
   "execution_count": null,
   "metadata": {
    "collapsed": true
   },
   "outputs": [],
   "source": []
  },
  {
   "cell_type": "markdown",
   "metadata": {},
   "source": [
    "#### LIDAR rendering\n",
    "From http://ronny.rest/blog/post_2017_03_30_ros3_and_lidar/"
   ]
  },
  {
   "cell_type": "code",
   "execution_count": null,
   "metadata": {
    "collapsed": true
   },
   "outputs": [],
   "source": [
    "import mayavi.mlab\n",
    "fig = mayavi.mlab.figure(bgcolor=(0, 0, 0), size=(500, 300))\n",
    "\n",
    "mayavi.mlab.points3d(lidar[:,0], lidar[:,1], lidar[:,2],\n",
    "                     lidar[:,0]**2 + lidar[:,1]**2, # distance values for color\n",
    "                     mode=\"point\",\n",
    "                     colormap='spectral',\n",
    "                     figure=fig,\n",
    "                     )\n",
    "mayavi.mlab.show()"
   ]
  },
  {
   "cell_type": "code",
   "execution_count": null,
   "metadata": {
    "collapsed": true
   },
   "outputs": [],
   "source": []
  },
  {
   "cell_type": "code",
   "execution_count": null,
   "metadata": {
    "collapsed": true
   },
   "outputs": [],
   "source": []
  },
  {
   "cell_type": "code",
   "execution_count": null,
   "metadata": {
    "collapsed": true
   },
   "outputs": [],
   "source": []
  },
  {
   "cell_type": "code",
   "execution_count": null,
   "metadata": {
    "collapsed": true
   },
   "outputs": [],
   "source": []
  },
  {
   "cell_type": "code",
   "execution_count": 28,
   "metadata": {
    "collapsed": true,
    "deletable": true,
    "editable": true
   },
   "outputs": [],
   "source": [
    "cv2.destroyAllWindows()"
   ]
  },
  {
   "cell_type": "code",
   "execution_count": 11,
   "metadata": {
    "collapsed": false,
    "deletable": true,
    "editable": true,
    "scrolled": true
   },
   "outputs": [],
   "source": [
    " \n",
    "def get_cloud_points(cloud):\n",
    "    pt_x=[]\n",
    "    pt_y=[]\n",
    "    pt_z=[]\n",
    "\n",
    "    for point in pc2.read_points(cloud, skip_nans=True):\n",
    "        pt_x.append(point[0])\n",
    "        pt_y.append(point[1])\n",
    "        pt_z.append(point[2])\n",
    "        #print 'x:{}, y:{}, z:{}'.format(pt_x, pt_y, pt_z)\n",
    "\n",
    "    return pt_x, pt_y, pt_z\n"
   ]
  },
  {
   "cell_type": "code",
   "execution_count": 12,
   "metadata": {
    "collapsed": false,
    "deletable": true,
    "editable": true
   },
   "outputs": [],
   "source": [
    "from cStringIO import StringIO\n",
    "\n",
    "def plot_point_cloud(cloud):\n",
    "    mpl.rcParams['legend.fontsize'] = 10\n",
    "    \n",
    "    fig = plt.figure()\n",
    "    #ax = fig.gca(projection='3d')\n",
    "\n",
    "    pt_x, pt_y, pt_z = get_cloud_points(cloud)\n",
    "    #ax.scatter(pt_x, pt_y, pt_z, label='points')\n",
    "    #ax.legend()\n",
    "    #plt.show()\n",
    "    \n",
    "    plt.plot(pt_x, pt_z, 'ro')    \n",
    "    buffer_ = StringIO()\n",
    "    fig.savefig(buffer_, format = \"png\")\n",
    "    buffer_.seek(0)\n",
    "    img_array = np.asarray(bytearray(buffer_.read()), dtype=np.uint8)\n",
    "    img = cv2.imdecode(img_array, 1)   # 1 = colour\n",
    "    plt.close(fig)\n",
    "    #cv2.imshow('points', img)\n",
    "    #cv2.waitKey(1)\n",
    "    \n",
    "    #plt.show()\n",
    "    \n",
    "    #plt.plot(pt_x, pt_y, 'ro')\n",
    "    #plt.show()\n",
    "    \n",
    "    return img"
   ]
  },
  {
   "cell_type": "code",
   "execution_count": 13,
   "metadata": {
    "collapsed": false,
    "deletable": true,
    "editable": true
   },
   "outputs": [],
   "source": [
    "cv2.destroyAllWindows()"
   ]
  },
  {
   "cell_type": "code",
   "execution_count": 14,
   "metadata": {
    "collapsed": false,
    "deletable": true,
    "editable": true
   },
   "outputs": [
    {
     "name": "stdout",
     "output_type": "stream",
     "text": [
      "Index: 0\n",
      "Index: 20\n",
      "Index: 40\n",
      "Index: 60\n",
      "Index: 80\n",
      "Index: 100\n",
      "Index: 120\n",
      "Index: 140\n",
      "Index: 160\n",
      "Index: 180\n",
      "Index: 200\n",
      "Index: 220\n",
      "Index: 240\n",
      "Index: 260\n",
      "Index: 280\n",
      "Index: 300\n",
      "Index: 320\n",
      "Index: 340\n",
      "Index: 360\n",
      "Index: 380\n",
      "Index: 400\n",
      "Index: 420\n",
      "Index: 440\n",
      "Index: 460\n",
      "Index: 480\n",
      "Index: 500\n",
      "Index: 520\n",
      "Index: 540\n",
      "Index: 560\n",
      "Index: 580\n",
      "Index: 600\n",
      "Index: 620\n",
      "Index: 640\n",
      "Index: 660\n",
      "Index: 680\n",
      "Index: 700\n",
      "Index: 720\n",
      "Index: 740\n",
      "Index: 760\n",
      "Index: 780\n",
      "Index: 800\n",
      "Index: 820\n",
      "Index: 840\n",
      "Index: 860\n",
      "Index: 880\n",
      "Index: 900\n",
      "Index: 920\n",
      "Index: 940\n",
      "Index: 960\n",
      "Index: 980\n",
      "Index: 1000\n",
      "Index: 1020\n",
      "Index: 1040\n",
      "Index: 1060\n",
      "Index: 1080\n",
      "Index: 1100\n",
      "Index: 1120\n",
      "Index: 1140\n",
      "Index: 1160\n",
      "Index: 1180\n",
      "Index: 1200\n",
      "Index: 1220\n",
      "Index: 1240\n",
      "Index: 1260\n",
      "Index: 1280\n",
      "Index: 1300\n",
      "Index: 1320\n",
      "Index: 1340\n",
      "Index: 1360\n",
      "Index: 1380\n",
      "Index: 1400\n",
      "Index: 1420\n",
      "Index: 1440\n",
      "Index: 1460\n",
      "Index: 1480\n",
      "Index: 1500\n",
      "Index: 1520\n",
      "Index: 1540\n",
      "Index: 1560\n",
      "Index: 1580\n",
      "Index: 1600\n",
      "Index: 1620\n",
      "Index: 1640\n",
      "Index: 1660\n",
      "Index: 1680\n",
      "Index: 1700\n",
      "Index: 1720\n",
      "Index: 1740\n",
      "Index: 1760\n",
      "Index: 1780\n",
      "Index: 1800\n",
      "Index: 1820\n",
      "Index: 1840\n",
      "Index: 1860\n",
      "Index: 1880\n",
      "Index: 1900\n",
      "Index: 1920\n",
      "Index: 1940\n",
      "Index: 1960\n",
      "Index: 1980\n",
      "Index: 2000\n",
      "Index: 2020\n",
      "Index: 2040\n",
      "Index: 2060\n",
      "Index: 2080\n",
      "Index: 2100\n",
      "Index: 2120\n",
      "Index: 2140\n",
      "Index: 2160\n",
      "Index: 2180\n",
      "Index: 2200\n",
      "Index: 2220\n",
      "Index: 2240\n",
      "Index: 2260\n",
      "Index: 2280\n",
      "Index: 2300\n",
      "Index: 2320\n",
      "Index: 2340\n",
      "Index: 2360\n",
      "Index: 2380\n",
      "Index: 2400\n",
      "Index: 2420\n",
      "Index: 2440\n",
      "Index: 2460\n",
      "Index: 2480\n",
      "Index: 2500\n",
      "Index: 2520\n",
      "Index: 2540\n",
      "Index: 2560\n",
      "Index: 2580\n",
      "Index: 2600\n",
      "Index: 2620\n",
      "Index: 2640\n",
      "Index: 2660\n",
      "Index: 2680\n"
     ]
    }
   ],
   "source": [
    "for idx in range(0, len(images), 20): \n",
    "    print 'Index: {}'.format(idx)\n",
    "    cv2.imshow('image',images[idx])\n",
    "    cv2.imshow('points',plot_point_cloud(point_clouds[idx]))\n",
    "    cv2.waitKey(1)"
   ]
  },
  {
   "cell_type": "code",
   "execution_count": 15,
   "metadata": {
    "collapsed": true,
    "deletable": true,
    "editable": true
   },
   "outputs": [],
   "source": [
    "cv2.destroyAllWindows()"
   ]
  },
  {
   "cell_type": "code",
   "execution_count": 16,
   "metadata": {
    "collapsed": false,
    "deletable": true,
    "editable": true
   },
   "outputs": [
    {
     "name": "stdout",
     "output_type": "stream",
     "text": [
      "9064\n",
      "1490155973\n"
     ]
    }
   ],
   "source": [
    "print msg.header.seq\n",
    "print msg.header.stamp.secs"
   ]
  },
  {
   "cell_type": "code",
   "execution_count": null,
   "metadata": {
    "collapsed": true,
    "deletable": true,
    "editable": true
   },
   "outputs": [],
   "source": []
  }
 ],
 "metadata": {
  "kernelspec": {
   "display_name": "Python 2",
   "language": "python",
   "name": "python2"
  },
  "language_info": {
   "codemirror_mode": {
    "name": "ipython",
    "version": 2
   },
   "file_extension": ".py",
   "mimetype": "text/x-python",
   "name": "python",
   "nbconvert_exporter": "python",
   "pygments_lexer": "ipython2",
   "version": "2.7.12"
  }
 },
 "nbformat": 4,
 "nbformat_minor": 2
}
