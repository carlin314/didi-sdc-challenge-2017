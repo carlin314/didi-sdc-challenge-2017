{
 "cells": [
  {
   "cell_type": "markdown",
   "metadata": {},
   "source": [
    "## Train CNN based on Udacity\n",
    "\n",
    "This notebook is to debug the outline training the CNN, specifically to ensure that the training data is as expected and the output from a training or testing run can be visualised.\n",
    "\n",
    "Note that in order to train the CNN, this code will need to be run on GCP (or similar GPU-based server).\n"
   ]
  },
  {
   "cell_type": "markdown",
   "metadata": {},
   "source": [
    "### Setup environments"
   ]
  },
  {
   "cell_type": "markdown",
   "metadata": {},
   "source": [
    "#### Imports\n",
    "\n",
    "Note that these imports are for the purposes of this notebook, they will be different when running `train.py` or `test.py`"
   ]
  },
  {
   "cell_type": "code",
   "execution_count": 14,
   "metadata": {
    "collapsed": false
   },
   "outputs": [],
   "source": [
    "import os\n",
    "import numpy as np\n",
    "import pandas as pd\n",
    "import cv2\n",
    "from IPython.display import SVG\n",
    "from keras.utils.vis_utils import model_to_dot\n",
    "from keras.callbacks import Callback, TensorBoard, EarlyStopping, ModelCheckpoint\n",
    "\n",
    "#%matplotlib inline\n",
    "#import matplotlib.pyplot as plt"
   ]
  },
  {
   "cell_type": "code",
   "execution_count": 15,
   "metadata": {
    "collapsed": false
   },
   "outputs": [],
   "source": [
    "from nn import nn\n",
    "from nn import data_reader\n",
    "from tracklets import generate_tracklet\n"
   ]
  },
  {
   "cell_type": "markdown",
   "metadata": {},
   "source": [
    "#### Set up environment variables (Mac)\n",
    "\n",
    "Run this section for training/testing on my Mac"
   ]
  },
  {
   "cell_type": "code",
   "execution_count": 16,
   "metadata": {
    "collapsed": true
   },
   "outputs": [],
   "source": [
    "BATCH_SIZE = 1\n",
    "DATA_DIR = '/vol/didi/dataset2/Tracklets/1/2/'\n",
    "LOGDIR = '/vol/training/logs'\n",
    "TRAIN_DIR = '/vol/dataset2/Train/'\n",
    "PREDICT_DIR = '/vol/dataset2/Predict/'\n",
    "CSV='data.csv'\n",
    "CHECKPOINT_EVERY = 100\n",
    "NUM_STEPS = int(1e2)   # Run for 100 steps\n",
    "CKPT_FILE = 'model.ckpt'\n",
    "LEARNING_RATE = 1e-3\n",
    "KEEP_PROB = 0.8\n",
    "L2_REG = 0\n",
    "EPSILON = 0.001\n",
    "MOMENTUM = 0.9"
   ]
  },
  {
   "cell_type": "markdown",
   "metadata": {},
   "source": [
    "#### Set up environment variables (GCP)\n",
    "\n",
    "Run this for training/testing on GCP instance"
   ]
  },
  {
   "cell_type": "code",
   "execution_count": null,
   "metadata": {
    "collapsed": true
   },
   "outputs": [],
   "source": [
    "BATCH_SIZE = 1\n",
    "DATA_DIR = '/vol/dataset2/Didi-Release-2/Tracklets/1/2/'\n",
    "LOGDIR = '/vol/training/logs'\n",
    "TRAIN_DIR = '/vol/dataset2/Didi-Release-2/Train/'\n",
    "PREDICT_DIR = '/vol/dataset2/Didi-Release-2/Predict/'\n",
    "CSV='data.csv'\n",
    "CHECKPOINT_EVERY = 100\n",
    "NUM_STEPS = int(1e2)   # Run for 100 steps\n",
    "CKPT_FILE = 'model.ckpt'\n",
    "LEARNING_RATE = 1e-3\n",
    "KEEP_PROB = 0.8\n",
    "L2_REG = 0\n",
    "EPSILON = 0.001\n",
    "MOMENTUM = 0.9"
   ]
  },
  {
   "cell_type": "markdown",
   "metadata": {},
   "source": [
    "### Setup model\n",
    "\n",
    "This currently assumes u-net based model configured in nn/nn.py"
   ]
  },
  {
   "cell_type": "code",
   "execution_count": 17,
   "metadata": {
    "collapsed": false,
    "scrolled": false
   },
   "outputs": [
    {
     "data": {
      "image/svg+xml": [
       "<svg height=\"2308pt\" viewBox=\"0.00 0.00 547.81 2308.00\" width=\"548pt\" xmlns=\"http://www.w3.org/2000/svg\" xmlns:xlink=\"http://www.w3.org/1999/xlink\">\n",
       "<g class=\"graph\" id=\"graph0\" transform=\"scale(1 1) rotate(0) translate(4 2304)\">\n",
       "<title>G</title>\n",
       "<polygon fill=\"white\" points=\"-4,4 -4,-2304 543.81,-2304 543.81,4 -4,4\" stroke=\"none\"/>\n",
       "<!-- 5168524560 -->\n",
       "<g class=\"node\" id=\"node1\"><title>5168524560</title>\n",
       "<polygon fill=\"none\" points=\"397.309,-2263.5 397.309,-2299.5 525.671,-2299.5 525.671,-2263.5 397.309,-2263.5\" stroke=\"black\"/>\n",
       "<text font-family=\"Times,serif\" font-size=\"14.00\" text-anchor=\"middle\" x=\"461.49\" y=\"-2277.3\">input_2: InputLayer</text>\n",
       "</g>\n",
       "<!-- 5169631312 -->\n",
       "<g class=\"node\" id=\"node2\"><title>5169631312</title>\n",
       "<polygon fill=\"none\" points=\"394.964,-2190.5 394.964,-2226.5 528.016,-2226.5 528.016,-2190.5 394.964,-2190.5\" stroke=\"black\"/>\n",
       "<text font-family=\"Times,serif\" font-size=\"14.00\" text-anchor=\"middle\" x=\"461.49\" y=\"-2204.3\">conv2d_20: Conv2D</text>\n",
       "</g>\n",
       "<!-- 5168524560&#45;&gt;5169631312 -->\n",
       "<g class=\"edge\" id=\"edge1\"><title>5168524560-&gt;5169631312</title>\n",
       "<path d=\"M461.49,-2263.31C461.49,-2255.29 461.49,-2245.55 461.49,-2236.57\" fill=\"none\" stroke=\"black\"/>\n",
       "<polygon fill=\"black\" points=\"464.99,-2236.53 461.49,-2226.53 457.99,-2236.53 464.99,-2236.53\" stroke=\"black\"/>\n",
       "</g>\n",
       "<!-- 5168058320 -->\n",
       "<g class=\"node\" id=\"node3\"><title>5168058320</title>\n",
       "<polygon fill=\"none\" points=\"394.964,-2117.5 394.964,-2153.5 528.016,-2153.5 528.016,-2117.5 394.964,-2117.5\" stroke=\"black\"/>\n",
       "<text font-family=\"Times,serif\" font-size=\"14.00\" text-anchor=\"middle\" x=\"461.49\" y=\"-2131.3\">conv2d_21: Conv2D</text>\n",
       "</g>\n",
       "<!-- 5169631312&#45;&gt;5168058320 -->\n",
       "<g class=\"edge\" id=\"edge2\"><title>5169631312-&gt;5168058320</title>\n",
       "<path d=\"M461.49,-2190.31C461.49,-2182.29 461.49,-2172.55 461.49,-2163.57\" fill=\"none\" stroke=\"black\"/>\n",
       "<polygon fill=\"black\" points=\"464.99,-2163.53 461.49,-2153.53 457.99,-2163.53 464.99,-2163.53\" stroke=\"black\"/>\n",
       "</g>\n",
       "<!-- 5173878224 -->\n",
       "<g class=\"node\" id=\"node4\"><title>5173878224</title>\n",
       "<polygon fill=\"none\" points=\"288.685,-2044.5 288.685,-2080.5 500.295,-2080.5 500.295,-2044.5 288.685,-2044.5\" stroke=\"black\"/>\n",
       "<text font-family=\"Times,serif\" font-size=\"14.00\" text-anchor=\"middle\" x=\"394.49\" y=\"-2058.3\">max_pooling2d_5: MaxPooling2D</text>\n",
       "</g>\n",
       "<!-- 5168058320&#45;&gt;5173878224 -->\n",
       "<g class=\"edge\" id=\"edge3\"><title>5168058320-&gt;5173878224</title>\n",
       "<path d=\"M445.271,-2117.31C436.959,-2108.5 426.693,-2097.63 417.571,-2087.96\" fill=\"none\" stroke=\"black\"/>\n",
       "<polygon fill=\"black\" points=\"419.969,-2085.4 410.56,-2080.53 414.877,-2090.2 419.969,-2085.4\" stroke=\"black\"/>\n",
       "</g>\n",
       "<!-- 5181402512 -->\n",
       "<g class=\"node\" id=\"node29\"><title>5181402512</title>\n",
       "<polygon fill=\"none\" points=\"367.171,-219.5 367.171,-255.5 539.81,-255.5 539.81,-219.5 367.171,-219.5\" stroke=\"black\"/>\n",
       "<text font-family=\"Times,serif\" font-size=\"14.00\" text-anchor=\"middle\" x=\"453.49\" y=\"-233.3\">concatenate_8: Concatenate</text>\n",
       "</g>\n",
       "<!-- 5168058320&#45;&gt;5181402512 -->\n",
       "<g class=\"edge\" id=\"edge32\"><title>5168058320-&gt;5181402512</title>\n",
       "<path d=\"M481.519,-2117.03C491.384,-2107.37 502.608,-2094.58 509.49,-2081 528.071,-2044.34 528.49,-2031.6 528.49,-1990.5 528.49,-1990.5 528.49,-1990.5 528.49,-382.5 528.49,-341.401 529.467,-327.917 509.49,-292 503.312,-280.892 494.061,-270.692 484.848,-262.245\" fill=\"none\" stroke=\"black\"/>\n",
       "<polygon fill=\"black\" points=\"487.029,-259.503 477.187,-255.58 482.434,-264.784 487.029,-259.503\" stroke=\"black\"/>\n",
       "</g>\n",
       "<!-- 5168878864 -->\n",
       "<g class=\"node\" id=\"node5\"><title>5168878864</title>\n",
       "<polygon fill=\"none\" points=\"327.964,-1971.5 327.964,-2007.5 461.016,-2007.5 461.016,-1971.5 327.964,-1971.5\" stroke=\"black\"/>\n",
       "<text font-family=\"Times,serif\" font-size=\"14.00\" text-anchor=\"middle\" x=\"394.49\" y=\"-1985.3\">conv2d_22: Conv2D</text>\n",
       "</g>\n",
       "<!-- 5173878224&#45;&gt;5168878864 -->\n",
       "<g class=\"edge\" id=\"edge4\"><title>5173878224-&gt;5168878864</title>\n",
       "<path d=\"M394.49,-2044.31C394.49,-2036.29 394.49,-2026.55 394.49,-2017.57\" fill=\"none\" stroke=\"black\"/>\n",
       "<polygon fill=\"black\" points=\"397.99,-2017.53 394.49,-2007.53 390.99,-2017.53 397.99,-2017.53\" stroke=\"black\"/>\n",
       "</g>\n",
       "<!-- 5175937936 -->\n",
       "<g class=\"node\" id=\"node6\"><title>5175937936</title>\n",
       "<polygon fill=\"none\" points=\"327.964,-1898.5 327.964,-1934.5 461.016,-1934.5 461.016,-1898.5 327.964,-1898.5\" stroke=\"black\"/>\n",
       "<text font-family=\"Times,serif\" font-size=\"14.00\" text-anchor=\"middle\" x=\"394.49\" y=\"-1912.3\">conv2d_23: Conv2D</text>\n",
       "</g>\n",
       "<!-- 5168878864&#45;&gt;5175937936 -->\n",
       "<g class=\"edge\" id=\"edge5\"><title>5168878864-&gt;5175937936</title>\n",
       "<path d=\"M394.49,-1971.31C394.49,-1963.29 394.49,-1953.55 394.49,-1944.57\" fill=\"none\" stroke=\"black\"/>\n",
       "<polygon fill=\"black\" points=\"397.99,-1944.53 394.49,-1934.53 390.99,-1944.53 397.99,-1944.53\" stroke=\"black\"/>\n",
       "</g>\n",
       "<!-- 5176062288 -->\n",
       "<g class=\"node\" id=\"node7\"><title>5176062288</title>\n",
       "<polygon fill=\"none\" points=\"202.685,-1825.5 202.685,-1861.5 414.295,-1861.5 414.295,-1825.5 202.685,-1825.5\" stroke=\"black\"/>\n",
       "<text font-family=\"Times,serif\" font-size=\"14.00\" text-anchor=\"middle\" x=\"308.49\" y=\"-1839.3\">max_pooling2d_6: MaxPooling2D</text>\n",
       "</g>\n",
       "<!-- 5175937936&#45;&gt;5176062288 -->\n",
       "<g class=\"edge\" id=\"edge6\"><title>5175937936-&gt;5176062288</title>\n",
       "<path d=\"M373.672,-1898.31C362.686,-1889.24 349.04,-1877.98 337.077,-1868.1\" fill=\"none\" stroke=\"black\"/>\n",
       "<polygon fill=\"black\" points=\"339.057,-1865.2 329.117,-1861.53 334.6,-1870.59 339.057,-1865.2\" stroke=\"black\"/>\n",
       "</g>\n",
       "<!-- 5180309200 -->\n",
       "<g class=\"node\" id=\"node25\"><title>5180309200</title>\n",
       "<polygon fill=\"none\" points=\"293.171,-511.5 293.171,-547.5 465.81,-547.5 465.81,-511.5 293.171,-511.5\" stroke=\"black\"/>\n",
       "<text font-family=\"Times,serif\" font-size=\"14.00\" text-anchor=\"middle\" x=\"379.49\" y=\"-525.3\">concatenate_7: Concatenate</text>\n",
       "</g>\n",
       "<!-- 5175937936&#45;&gt;5180309200 -->\n",
       "<g class=\"edge\" id=\"edge27\"><title>5175937936-&gt;5180309200</title>\n",
       "<path d=\"M405.495,-1898.27C411.58,-1888.07 418.83,-1874.69 423.49,-1862 437.654,-1823.42 442.49,-1812.6 442.49,-1771.5 442.49,-1771.5 442.49,-1771.5 442.49,-674.5 442.49,-633.401 441.278,-621.05 423.49,-584 418.599,-573.813 411.37,-563.896 404.179,-555.423\" fill=\"none\" stroke=\"black\"/>\n",
       "<polygon fill=\"black\" points=\"406.638,-552.921 397.373,-547.781 401.41,-557.577 406.638,-552.921\" stroke=\"black\"/>\n",
       "</g>\n",
       "<!-- 5176192016 -->\n",
       "<g class=\"node\" id=\"node8\"><title>5176192016</title>\n",
       "<polygon fill=\"none\" points=\"241.964,-1752.5 241.964,-1788.5 375.016,-1788.5 375.016,-1752.5 241.964,-1752.5\" stroke=\"black\"/>\n",
       "<text font-family=\"Times,serif\" font-size=\"14.00\" text-anchor=\"middle\" x=\"308.49\" y=\"-1766.3\">conv2d_24: Conv2D</text>\n",
       "</g>\n",
       "<!-- 5176062288&#45;&gt;5176192016 -->\n",
       "<g class=\"edge\" id=\"edge7\"><title>5176062288-&gt;5176192016</title>\n",
       "<path d=\"M308.49,-1825.31C308.49,-1817.29 308.49,-1807.55 308.49,-1798.57\" fill=\"none\" stroke=\"black\"/>\n",
       "<polygon fill=\"black\" points=\"311.99,-1798.53 308.49,-1788.53 304.99,-1798.53 311.99,-1798.53\" stroke=\"black\"/>\n",
       "</g>\n",
       "<!-- 5176308432 -->\n",
       "<g class=\"node\" id=\"node9\"><title>5176308432</title>\n",
       "<polygon fill=\"none\" points=\"241.964,-1679.5 241.964,-1715.5 375.016,-1715.5 375.016,-1679.5 241.964,-1679.5\" stroke=\"black\"/>\n",
       "<text font-family=\"Times,serif\" font-size=\"14.00\" text-anchor=\"middle\" x=\"308.49\" y=\"-1693.3\">conv2d_25: Conv2D</text>\n",
       "</g>\n",
       "<!-- 5176192016&#45;&gt;5176308432 -->\n",
       "<g class=\"edge\" id=\"edge8\"><title>5176192016-&gt;5176308432</title>\n",
       "<path d=\"M308.49,-1752.31C308.49,-1744.29 308.49,-1734.55 308.49,-1725.57\" fill=\"none\" stroke=\"black\"/>\n",
       "<polygon fill=\"black\" points=\"311.99,-1725.53 308.49,-1715.53 304.99,-1725.53 311.99,-1725.53\" stroke=\"black\"/>\n",
       "</g>\n",
       "<!-- 5176649744 -->\n",
       "<g class=\"node\" id=\"node10\"><title>5176649744</title>\n",
       "<polygon fill=\"none\" points=\"116.685,-1606.5 116.685,-1642.5 328.295,-1642.5 328.295,-1606.5 116.685,-1606.5\" stroke=\"black\"/>\n",
       "<text font-family=\"Times,serif\" font-size=\"14.00\" text-anchor=\"middle\" x=\"222.49\" y=\"-1620.3\">max_pooling2d_7: MaxPooling2D</text>\n",
       "</g>\n",
       "<!-- 5176308432&#45;&gt;5176649744 -->\n",
       "<g class=\"edge\" id=\"edge9\"><title>5176308432-&gt;5176649744</title>\n",
       "<path d=\"M287.672,-1679.31C276.686,-1670.24 263.04,-1658.98 251.077,-1649.1\" fill=\"none\" stroke=\"black\"/>\n",
       "<polygon fill=\"black\" points=\"253.057,-1646.2 243.117,-1642.53 248.6,-1651.59 253.057,-1646.2\" stroke=\"black\"/>\n",
       "</g>\n",
       "<!-- 5179211152 -->\n",
       "<g class=\"node\" id=\"node21\"><title>5179211152</title>\n",
       "<polygon fill=\"none\" points=\"207.171,-803.5 207.171,-839.5 379.81,-839.5 379.81,-803.5 207.171,-803.5\" stroke=\"black\"/>\n",
       "<text font-family=\"Times,serif\" font-size=\"14.00\" text-anchor=\"middle\" x=\"293.49\" y=\"-817.3\">concatenate_6: Concatenate</text>\n",
       "</g>\n",
       "<!-- 5176308432&#45;&gt;5179211152 -->\n",
       "<g class=\"edge\" id=\"edge22\"><title>5176308432-&gt;5179211152</title>\n",
       "<path d=\"M319.495,-1679.27C325.58,-1669.07 332.83,-1655.69 337.49,-1643 351.654,-1604.42 356.49,-1593.6 356.49,-1552.5 356.49,-1552.5 356.49,-1552.5 356.49,-966.5 356.49,-925.401 355.278,-913.05 337.49,-876 332.599,-865.813 325.37,-855.896 318.179,-847.423\" fill=\"none\" stroke=\"black\"/>\n",
       "<polygon fill=\"black\" points=\"320.638,-844.921 311.373,-839.781 315.41,-849.577 320.638,-844.921\" stroke=\"black\"/>\n",
       "</g>\n",
       "<!-- 5176778640 -->\n",
       "<g class=\"node\" id=\"node11\"><title>5176778640</title>\n",
       "<polygon fill=\"none\" points=\"155.964,-1533.5 155.964,-1569.5 289.016,-1569.5 289.016,-1533.5 155.964,-1533.5\" stroke=\"black\"/>\n",
       "<text font-family=\"Times,serif\" font-size=\"14.00\" text-anchor=\"middle\" x=\"222.49\" y=\"-1547.3\">conv2d_26: Conv2D</text>\n",
       "</g>\n",
       "<!-- 5176649744&#45;&gt;5176778640 -->\n",
       "<g class=\"edge\" id=\"edge10\"><title>5176649744-&gt;5176778640</title>\n",
       "<path d=\"M222.49,-1606.31C222.49,-1598.29 222.49,-1588.55 222.49,-1579.57\" fill=\"none\" stroke=\"black\"/>\n",
       "<polygon fill=\"black\" points=\"225.99,-1579.53 222.49,-1569.53 218.99,-1579.53 225.99,-1579.53\" stroke=\"black\"/>\n",
       "</g>\n",
       "<!-- 5177122896 -->\n",
       "<g class=\"node\" id=\"node12\"><title>5177122896</title>\n",
       "<polygon fill=\"none\" points=\"155.964,-1460.5 155.964,-1496.5 289.016,-1496.5 289.016,-1460.5 155.964,-1460.5\" stroke=\"black\"/>\n",
       "<text font-family=\"Times,serif\" font-size=\"14.00\" text-anchor=\"middle\" x=\"222.49\" y=\"-1474.3\">conv2d_27: Conv2D</text>\n",
       "</g>\n",
       "<!-- 5176778640&#45;&gt;5177122896 -->\n",
       "<g class=\"edge\" id=\"edge11\"><title>5176778640-&gt;5177122896</title>\n",
       "<path d=\"M222.49,-1533.31C222.49,-1525.29 222.49,-1515.55 222.49,-1506.57\" fill=\"none\" stroke=\"black\"/>\n",
       "<polygon fill=\"black\" points=\"225.99,-1506.53 222.49,-1496.53 218.99,-1506.53 225.99,-1506.53\" stroke=\"black\"/>\n",
       "</g>\n",
       "<!-- 5177298384 -->\n",
       "<g class=\"node\" id=\"node13\"><title>5177298384</title>\n",
       "<polygon fill=\"none\" points=\"28.6851,-1387.5 28.6851,-1423.5 240.295,-1423.5 240.295,-1387.5 28.6851,-1387.5\" stroke=\"black\"/>\n",
       "<text font-family=\"Times,serif\" font-size=\"14.00\" text-anchor=\"middle\" x=\"134.49\" y=\"-1401.3\">max_pooling2d_8: MaxPooling2D</text>\n",
       "</g>\n",
       "<!-- 5177122896&#45;&gt;5177298384 -->\n",
       "<g class=\"edge\" id=\"edge12\"><title>5177122896-&gt;5177298384</title>\n",
       "<path d=\"M201.188,-1460.31C189.838,-1451.16 175.714,-1439.76 163.389,-1429.82\" fill=\"none\" stroke=\"black\"/>\n",
       "<polygon fill=\"black\" points=\"165.577,-1427.08 155.596,-1423.53 161.181,-1432.53 165.577,-1427.08\" stroke=\"black\"/>\n",
       "</g>\n",
       "<!-- 5177941008 -->\n",
       "<g class=\"node\" id=\"node17\"><title>5177941008</title>\n",
       "<polygon fill=\"none\" points=\"121.171,-1095.5 121.171,-1131.5 293.81,-1131.5 293.81,-1095.5 121.171,-1095.5\" stroke=\"black\"/>\n",
       "<text font-family=\"Times,serif\" font-size=\"14.00\" text-anchor=\"middle\" x=\"207.49\" y=\"-1109.3\">concatenate_5: Concatenate</text>\n",
       "</g>\n",
       "<!-- 5177122896&#45;&gt;5177941008 -->\n",
       "<g class=\"edge\" id=\"edge17\"><title>5177122896-&gt;5177941008</title>\n",
       "<path d=\"M232.587,-1460.14C238.203,-1449.9 244.953,-1436.52 249.49,-1424 263.559,-1385.18 270.49,-1374.79 270.49,-1333.5 270.49,-1333.5 270.49,-1333.5 270.49,-1258.5 270.49,-1217.4 269.278,-1205.05 251.49,-1168 246.599,-1157.81 239.37,-1147.9 232.179,-1139.42\" fill=\"none\" stroke=\"black\"/>\n",
       "<polygon fill=\"black\" points=\"234.638,-1136.92 225.373,-1131.78 229.41,-1141.58 234.638,-1136.92\" stroke=\"black\"/>\n",
       "</g>\n",
       "<!-- 5177064528 -->\n",
       "<g class=\"node\" id=\"node14\"><title>5177064528</title>\n",
       "<polygon fill=\"none\" points=\"63.9644,-1314.5 63.9644,-1350.5 197.016,-1350.5 197.016,-1314.5 63.9644,-1314.5\" stroke=\"black\"/>\n",
       "<text font-family=\"Times,serif\" font-size=\"14.00\" text-anchor=\"middle\" x=\"130.49\" y=\"-1328.3\">conv2d_28: Conv2D</text>\n",
       "</g>\n",
       "<!-- 5177298384&#45;&gt;5177064528 -->\n",
       "<g class=\"edge\" id=\"edge13\"><title>5177298384-&gt;5177064528</title>\n",
       "<path d=\"M133.522,-1387.31C133.07,-1379.29 132.521,-1369.55 132.015,-1360.57\" fill=\"none\" stroke=\"black\"/>\n",
       "<polygon fill=\"black\" points=\"135.507,-1360.32 131.45,-1350.53 128.518,-1360.71 135.507,-1360.32\" stroke=\"black\"/>\n",
       "</g>\n",
       "<!-- 5177181904 -->\n",
       "<g class=\"node\" id=\"node15\"><title>5177181904</title>\n",
       "<polygon fill=\"none\" points=\"56.9644,-1241.5 56.9644,-1277.5 190.016,-1277.5 190.016,-1241.5 56.9644,-1241.5\" stroke=\"black\"/>\n",
       "<text font-family=\"Times,serif\" font-size=\"14.00\" text-anchor=\"middle\" x=\"123.49\" y=\"-1255.3\">conv2d_29: Conv2D</text>\n",
       "</g>\n",
       "<!-- 5177064528&#45;&gt;5177181904 -->\n",
       "<g class=\"edge\" id=\"edge14\"><title>5177064528-&gt;5177181904</title>\n",
       "<path d=\"M128.796,-1314.31C128.005,-1306.29 127.044,-1296.55 126.159,-1287.57\" fill=\"none\" stroke=\"black\"/>\n",
       "<polygon fill=\"black\" points=\"129.633,-1287.14 125.169,-1277.53 122.667,-1287.82 129.633,-1287.14\" stroke=\"black\"/>\n",
       "</g>\n",
       "<!-- 5177887824 -->\n",
       "<g class=\"node\" id=\"node16\"><title>5177887824</title>\n",
       "<polygon fill=\"none\" points=\"0,-1168.5 0,-1204.5 242.98,-1204.5 242.98,-1168.5 0,-1168.5\" stroke=\"black\"/>\n",
       "<text font-family=\"Times,serif\" font-size=\"14.00\" text-anchor=\"middle\" x=\"121.49\" y=\"-1182.3\">conv2d_transpose_5: Conv2DTranspose</text>\n",
       "</g>\n",
       "<!-- 5177181904&#45;&gt;5177887824 -->\n",
       "<g class=\"edge\" id=\"edge15\"><title>5177181904-&gt;5177887824</title>\n",
       "<path d=\"M123.006,-1241.31C122.78,-1233.29 122.506,-1223.55 122.253,-1214.57\" fill=\"none\" stroke=\"black\"/>\n",
       "<polygon fill=\"black\" points=\"125.75,-1214.43 121.97,-1204.53 118.753,-1214.62 125.75,-1214.43\" stroke=\"black\"/>\n",
       "</g>\n",
       "<!-- 5177887824&#45;&gt;5177941008 -->\n",
       "<g class=\"edge\" id=\"edge16\"><title>5177887824-&gt;5177941008</title>\n",
       "<path d=\"M142.308,-1168.31C153.295,-1159.24 166.941,-1147.98 178.904,-1138.1\" fill=\"none\" stroke=\"black\"/>\n",
       "<polygon fill=\"black\" points=\"181.38,-1140.59 186.864,-1131.53 176.924,-1135.2 181.38,-1140.59\" stroke=\"black\"/>\n",
       "</g>\n",
       "<!-- 5178595280 -->\n",
       "<g class=\"node\" id=\"node18\"><title>5178595280</title>\n",
       "<polygon fill=\"none\" points=\"140.964,-1022.5 140.964,-1058.5 274.016,-1058.5 274.016,-1022.5 140.964,-1022.5\" stroke=\"black\"/>\n",
       "<text font-family=\"Times,serif\" font-size=\"14.00\" text-anchor=\"middle\" x=\"207.49\" y=\"-1036.3\">conv2d_30: Conv2D</text>\n",
       "</g>\n",
       "<!-- 5177941008&#45;&gt;5178595280 -->\n",
       "<g class=\"edge\" id=\"edge18\"><title>5177941008-&gt;5178595280</title>\n",
       "<path d=\"M207.49,-1095.31C207.49,-1087.29 207.49,-1077.55 207.49,-1068.57\" fill=\"none\" stroke=\"black\"/>\n",
       "<polygon fill=\"black\" points=\"210.99,-1068.53 207.49,-1058.53 203.99,-1068.53 210.99,-1068.53\" stroke=\"black\"/>\n",
       "</g>\n",
       "<!-- 5178530192 -->\n",
       "<g class=\"node\" id=\"node19\"><title>5178530192</title>\n",
       "<polygon fill=\"none\" points=\"140.964,-949.5 140.964,-985.5 274.016,-985.5 274.016,-949.5 140.964,-949.5\" stroke=\"black\"/>\n",
       "<text font-family=\"Times,serif\" font-size=\"14.00\" text-anchor=\"middle\" x=\"207.49\" y=\"-963.3\">conv2d_31: Conv2D</text>\n",
       "</g>\n",
       "<!-- 5178595280&#45;&gt;5178530192 -->\n",
       "<g class=\"edge\" id=\"edge19\"><title>5178595280-&gt;5178530192</title>\n",
       "<path d=\"M207.49,-1022.31C207.49,-1014.29 207.49,-1004.55 207.49,-995.569\" fill=\"none\" stroke=\"black\"/>\n",
       "<polygon fill=\"black\" points=\"210.99,-995.529 207.49,-985.529 203.99,-995.529 210.99,-995.529\" stroke=\"black\"/>\n",
       "</g>\n",
       "<!-- 5178002512 -->\n",
       "<g class=\"node\" id=\"node20\"><title>5178002512</title>\n",
       "<polygon fill=\"none\" points=\"86,-876.5 86,-912.5 328.98,-912.5 328.98,-876.5 86,-876.5\" stroke=\"black\"/>\n",
       "<text font-family=\"Times,serif\" font-size=\"14.00\" text-anchor=\"middle\" x=\"207.49\" y=\"-890.3\">conv2d_transpose_6: Conv2DTranspose</text>\n",
       "</g>\n",
       "<!-- 5178530192&#45;&gt;5178002512 -->\n",
       "<g class=\"edge\" id=\"edge20\"><title>5178530192-&gt;5178002512</title>\n",
       "<path d=\"M207.49,-949.313C207.49,-941.289 207.49,-931.547 207.49,-922.569\" fill=\"none\" stroke=\"black\"/>\n",
       "<polygon fill=\"black\" points=\"210.99,-922.529 207.49,-912.529 203.99,-922.529 210.99,-922.529\" stroke=\"black\"/>\n",
       "</g>\n",
       "<!-- 5178002512&#45;&gt;5179211152 -->\n",
       "<g class=\"edge\" id=\"edge21\"><title>5178002512-&gt;5179211152</title>\n",
       "<path d=\"M228.308,-876.313C239.295,-867.243 252.941,-855.977 264.904,-846.1\" fill=\"none\" stroke=\"black\"/>\n",
       "<polygon fill=\"black\" points=\"267.38,-848.594 272.864,-839.529 262.924,-843.196 267.38,-848.594\" stroke=\"black\"/>\n",
       "</g>\n",
       "<!-- 5178928272 -->\n",
       "<g class=\"node\" id=\"node22\"><title>5178928272</title>\n",
       "<polygon fill=\"none\" points=\"226.964,-730.5 226.964,-766.5 360.016,-766.5 360.016,-730.5 226.964,-730.5\" stroke=\"black\"/>\n",
       "<text font-family=\"Times,serif\" font-size=\"14.00\" text-anchor=\"middle\" x=\"293.49\" y=\"-744.3\">conv2d_32: Conv2D</text>\n",
       "</g>\n",
       "<!-- 5179211152&#45;&gt;5178928272 -->\n",
       "<g class=\"edge\" id=\"edge23\"><title>5179211152-&gt;5178928272</title>\n",
       "<path d=\"M293.49,-803.313C293.49,-795.289 293.49,-785.547 293.49,-776.569\" fill=\"none\" stroke=\"black\"/>\n",
       "<polygon fill=\"black\" points=\"296.99,-776.529 293.49,-766.529 289.99,-776.529 296.99,-776.529\" stroke=\"black\"/>\n",
       "</g>\n",
       "<!-- 5179754960 -->\n",
       "<g class=\"node\" id=\"node23\"><title>5179754960</title>\n",
       "<polygon fill=\"none\" points=\"226.964,-657.5 226.964,-693.5 360.016,-693.5 360.016,-657.5 226.964,-657.5\" stroke=\"black\"/>\n",
       "<text font-family=\"Times,serif\" font-size=\"14.00\" text-anchor=\"middle\" x=\"293.49\" y=\"-671.3\">conv2d_33: Conv2D</text>\n",
       "</g>\n",
       "<!-- 5178928272&#45;&gt;5179754960 -->\n",
       "<g class=\"edge\" id=\"edge24\"><title>5178928272-&gt;5179754960</title>\n",
       "<path d=\"M293.49,-730.313C293.49,-722.289 293.49,-712.547 293.49,-703.569\" fill=\"none\" stroke=\"black\"/>\n",
       "<polygon fill=\"black\" points=\"296.99,-703.529 293.49,-693.529 289.99,-703.529 296.99,-703.529\" stroke=\"black\"/>\n",
       "</g>\n",
       "<!-- 5179384784 -->\n",
       "<g class=\"node\" id=\"node24\"><title>5179384784</title>\n",
       "<polygon fill=\"none\" points=\"172,-584.5 172,-620.5 414.98,-620.5 414.98,-584.5 172,-584.5\" stroke=\"black\"/>\n",
       "<text font-family=\"Times,serif\" font-size=\"14.00\" text-anchor=\"middle\" x=\"293.49\" y=\"-598.3\">conv2d_transpose_7: Conv2DTranspose</text>\n",
       "</g>\n",
       "<!-- 5179754960&#45;&gt;5179384784 -->\n",
       "<g class=\"edge\" id=\"edge25\"><title>5179754960-&gt;5179384784</title>\n",
       "<path d=\"M293.49,-657.313C293.49,-649.289 293.49,-639.547 293.49,-630.569\" fill=\"none\" stroke=\"black\"/>\n",
       "<polygon fill=\"black\" points=\"296.99,-630.529 293.49,-620.529 289.99,-630.529 296.99,-630.529\" stroke=\"black\"/>\n",
       "</g>\n",
       "<!-- 5179384784&#45;&gt;5180309200 -->\n",
       "<g class=\"edge\" id=\"edge26\"><title>5179384784-&gt;5180309200</title>\n",
       "<path d=\"M314.308,-584.313C325.295,-575.243 338.941,-563.977 350.904,-554.1\" fill=\"none\" stroke=\"black\"/>\n",
       "<polygon fill=\"black\" points=\"353.38,-556.594 358.864,-547.529 348.924,-551.196 353.38,-556.594\" stroke=\"black\"/>\n",
       "</g>\n",
       "<!-- 5180308560 -->\n",
       "<g class=\"node\" id=\"node26\"><title>5180308560</title>\n",
       "<polygon fill=\"none\" points=\"312.964,-438.5 312.964,-474.5 446.016,-474.5 446.016,-438.5 312.964,-438.5\" stroke=\"black\"/>\n",
       "<text font-family=\"Times,serif\" font-size=\"14.00\" text-anchor=\"middle\" x=\"379.49\" y=\"-452.3\">conv2d_34: Conv2D</text>\n",
       "</g>\n",
       "<!-- 5180309200&#45;&gt;5180308560 -->\n",
       "<g class=\"edge\" id=\"edge28\"><title>5180309200-&gt;5180308560</title>\n",
       "<path d=\"M379.49,-511.313C379.49,-503.289 379.49,-493.547 379.49,-484.569\" fill=\"none\" stroke=\"black\"/>\n",
       "<polygon fill=\"black\" points=\"382.99,-484.529 379.49,-474.529 375.99,-484.529 382.99,-484.529\" stroke=\"black\"/>\n",
       "</g>\n",
       "<!-- 5180791376 -->\n",
       "<g class=\"node\" id=\"node27\"><title>5180791376</title>\n",
       "<polygon fill=\"none\" points=\"312.964,-365.5 312.964,-401.5 446.016,-401.5 446.016,-365.5 312.964,-365.5\" stroke=\"black\"/>\n",
       "<text font-family=\"Times,serif\" font-size=\"14.00\" text-anchor=\"middle\" x=\"379.49\" y=\"-379.3\">conv2d_35: Conv2D</text>\n",
       "</g>\n",
       "<!-- 5180308560&#45;&gt;5180791376 -->\n",
       "<g class=\"edge\" id=\"edge29\"><title>5180308560-&gt;5180791376</title>\n",
       "<path d=\"M379.49,-438.313C379.49,-430.289 379.49,-420.547 379.49,-411.569\" fill=\"none\" stroke=\"black\"/>\n",
       "<polygon fill=\"black\" points=\"382.99,-411.529 379.49,-401.529 375.99,-411.529 382.99,-411.529\" stroke=\"black\"/>\n",
       "</g>\n",
       "<!-- 5180621264 -->\n",
       "<g class=\"node\" id=\"node28\"><title>5180621264</title>\n",
       "<polygon fill=\"none\" points=\"258,-292.5 258,-328.5 500.98,-328.5 500.98,-292.5 258,-292.5\" stroke=\"black\"/>\n",
       "<text font-family=\"Times,serif\" font-size=\"14.00\" text-anchor=\"middle\" x=\"379.49\" y=\"-306.3\">conv2d_transpose_8: Conv2DTranspose</text>\n",
       "</g>\n",
       "<!-- 5180791376&#45;&gt;5180621264 -->\n",
       "<g class=\"edge\" id=\"edge30\"><title>5180791376-&gt;5180621264</title>\n",
       "<path d=\"M379.49,-365.313C379.49,-357.289 379.49,-347.547 379.49,-338.569\" fill=\"none\" stroke=\"black\"/>\n",
       "<polygon fill=\"black\" points=\"382.99,-338.529 379.49,-328.529 375.99,-338.529 382.99,-338.529\" stroke=\"black\"/>\n",
       "</g>\n",
       "<!-- 5180621264&#45;&gt;5181402512 -->\n",
       "<g class=\"edge\" id=\"edge31\"><title>5180621264-&gt;5181402512</title>\n",
       "<path d=\"M397.404,-292.313C406.675,-283.417 418.148,-272.409 428.297,-262.672\" fill=\"none\" stroke=\"black\"/>\n",
       "<polygon fill=\"black\" points=\"430.949,-264.978 435.742,-255.529 426.103,-259.927 430.949,-264.978\" stroke=\"black\"/>\n",
       "</g>\n",
       "<!-- 5181890384 -->\n",
       "<g class=\"node\" id=\"node30\"><title>5181890384</title>\n",
       "<polygon fill=\"none\" points=\"386.964,-146.5 386.964,-182.5 520.016,-182.5 520.016,-146.5 386.964,-146.5\" stroke=\"black\"/>\n",
       "<text font-family=\"Times,serif\" font-size=\"14.00\" text-anchor=\"middle\" x=\"453.49\" y=\"-160.3\">conv2d_36: Conv2D</text>\n",
       "</g>\n",
       "<!-- 5181402512&#45;&gt;5181890384 -->\n",
       "<g class=\"edge\" id=\"edge33\"><title>5181402512-&gt;5181890384</title>\n",
       "<path d=\"M453.49,-219.313C453.49,-211.289 453.49,-201.547 453.49,-192.569\" fill=\"none\" stroke=\"black\"/>\n",
       "<polygon fill=\"black\" points=\"456.99,-192.529 453.49,-182.529 449.99,-192.529 456.99,-192.529\" stroke=\"black\"/>\n",
       "</g>\n",
       "<!-- 5181953424 -->\n",
       "<g class=\"node\" id=\"node31\"><title>5181953424</title>\n",
       "<polygon fill=\"none\" points=\"386.964,-73.5 386.964,-109.5 520.016,-109.5 520.016,-73.5 386.964,-73.5\" stroke=\"black\"/>\n",
       "<text font-family=\"Times,serif\" font-size=\"14.00\" text-anchor=\"middle\" x=\"453.49\" y=\"-87.3\">conv2d_37: Conv2D</text>\n",
       "</g>\n",
       "<!-- 5181890384&#45;&gt;5181953424 -->\n",
       "<g class=\"edge\" id=\"edge34\"><title>5181890384-&gt;5181953424</title>\n",
       "<path d=\"M453.49,-146.313C453.49,-138.289 453.49,-128.547 453.49,-119.569\" fill=\"none\" stroke=\"black\"/>\n",
       "<polygon fill=\"black\" points=\"456.99,-119.529 453.49,-109.529 449.99,-119.529 456.99,-119.529\" stroke=\"black\"/>\n",
       "</g>\n",
       "<!-- 5181520208 -->\n",
       "<g class=\"node\" id=\"node32\"><title>5181520208</title>\n",
       "<polygon fill=\"none\" points=\"386.964,-0.5 386.964,-36.5 520.016,-36.5 520.016,-0.5 386.964,-0.5\" stroke=\"black\"/>\n",
       "<text font-family=\"Times,serif\" font-size=\"14.00\" text-anchor=\"middle\" x=\"453.49\" y=\"-14.3\">conv2d_38: Conv2D</text>\n",
       "</g>\n",
       "<!-- 5181953424&#45;&gt;5181520208 -->\n",
       "<g class=\"edge\" id=\"edge35\"><title>5181953424-&gt;5181520208</title>\n",
       "<path d=\"M453.49,-73.3129C453.49,-65.2895 453.49,-55.5475 453.49,-46.5691\" fill=\"none\" stroke=\"black\"/>\n",
       "<polygon fill=\"black\" points=\"456.99,-46.5288 453.49,-36.5288 449.99,-46.5289 456.99,-46.5288\" stroke=\"black\"/>\n",
       "</g>\n",
       "</g>\n",
       "</svg>"
      ],
      "text/plain": [
       "<IPython.core.display.SVG object>"
      ]
     },
     "execution_count": 17,
     "metadata": {},
     "output_type": "execute_result"
    }
   ],
   "source": [
    "LossHistory, model = nn.top_nn()\n",
    "# summary = model.summary()\n",
    "SVG(model_to_dot(model).create(prog='dot', format='svg'))"
   ]
  },
  {
   "cell_type": "markdown",
   "metadata": {},
   "source": [
    "### Setup data_reader() for loading data"
   ]
  },
  {
   "cell_type": "code",
   "execution_count": 20,
   "metadata": {
    "collapsed": false
   },
   "outputs": [
    {
     "name": "stdout",
     "output_type": "stream",
     "text": [
      "Parsing Tracklet file /vol/didi/dataset2/Tracklets/1/2/tracklet_labels.xml\n",
      "File contains 1 Tracklets\n",
      "Loaded 1 Tracklets\n"
     ]
    }
   ],
   "source": [
    "data_reader = data_reader.DataReader(DATA_DIR)"
   ]
  },
  {
   "cell_type": "markdown",
   "metadata": {},
   "source": [
    "Load a single training sample to get things moving"
   ]
  },
  {
   "cell_type": "code",
   "execution_count": 21,
   "metadata": {
    "collapsed": true
   },
   "outputs": [],
   "source": [
    "xs, ys = data_reader.load_train_batch(batch_size=BATCH_SIZE)"
   ]
  },
  {
   "cell_type": "markdown",
   "metadata": {},
   "source": [
    "Display info about the training data:\n",
    "\n",
    "* xs = `pointcloud.npy` data based on the format created by `sensor_pipeline/extract_pointclouds.py`\n",
    "* ys = mask of obstacle in (0,1) format, where 0=background and 1=obstacle (car)"
   ]
  },
  {
   "cell_type": "code",
   "execution_count": 22,
   "metadata": {
    "collapsed": false
   },
   "outputs": [
    {
     "name": "stdout",
     "output_type": "stream",
     "text": [
      "xs.shape=(1, 400, 400, 8)\n",
      "ys.shape=(1, 400, 400, 1)\n"
     ]
    }
   ],
   "source": [
    "print ('xs.shape={}'.format(xs.shape))\n",
    "print ('ys.shape={}'.format(ys.shape))"
   ]
  },
  {
   "cell_type": "markdown",
   "metadata": {},
   "source": [
    "Render the training mask and the respective point cloud image (generated by `pointcloud_utils/create_pointcloud_image.py`)"
   ]
  },
  {
   "cell_type": "code",
   "execution_count": 24,
   "metadata": {
    "collapsed": false
   },
   "outputs": [
    {
     "data": {
      "text/plain": [
       "(400, 400)"
      ]
     },
     "execution_count": 24,
     "metadata": {},
     "output_type": "execute_result"
    }
   ],
   "source": [
    "mask=ys[0,:,:,0]\n",
    "timestamp=\n",
    "pointcloud_image_file=os.path.join(DATA_DIR, 'processed', 'lidar_top_img', '1490991281474291000.png')"
   ]
  },
  {
   "cell_type": "code",
   "execution_count": null,
   "metadata": {
    "collapsed": true
   },
   "outputs": [],
   "source": []
  }
 ],
 "metadata": {
  "kernelspec": {
   "display_name": "Python 2",
   "language": "python",
   "name": "python2"
  },
  "language_info": {
   "codemirror_mode": {
    "name": "ipython",
    "version": 2
   },
   "file_extension": ".py",
   "mimetype": "text/x-python",
   "name": "python",
   "nbconvert_exporter": "python",
   "pygments_lexer": "ipython2",
   "version": "2.7.11"
  }
 },
 "nbformat": 4,
 "nbformat_minor": 0
}
