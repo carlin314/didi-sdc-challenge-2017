{
 "cells": [
  {
   "cell_type": "markdown",
   "metadata": {},
   "source": [
    "## Train CNN based on Udacity\n",
    "\n",
    "This notebook is to debug the outline training the CNN, specifically to ensure that the training data is as expected and the output from a training or testing run can be visualised.\n",
    "\n",
    "Note that in order to train the CNN, this code will need to be run on GCP (or similar GPU-based server).\n"
   ]
  },
  {
   "cell_type": "markdown",
   "metadata": {},
   "source": [
    "### Setup environments"
   ]
  },
  {
   "cell_type": "markdown",
   "metadata": {},
   "source": [
    "#### Imports\n",
    "\n",
    "Note that these imports are for the purposes of this notebook, they will be different when running `train.py` or `test.py`"
   ]
  },
  {
   "cell_type": "code",
   "execution_count": 1,
   "metadata": {
    "collapsed": false
   },
   "outputs": [
    {
     "name": "stderr",
     "output_type": "stream",
     "text": [
      "Using TensorFlow backend.\n"
     ]
    }
   ],
   "source": [
    "import os\n",
    "import numpy as np\n",
    "import pandas as pd\n",
    "import cv2\n",
    "from IPython.display import SVG\n",
    "from keras.utils.vis_utils import model_to_dot\n",
    "from keras.callbacks import Callback, TensorBoard, EarlyStopping, ModelCheckpoint"
   ]
  },
  {
   "cell_type": "code",
   "execution_count": 2,
   "metadata": {
    "collapsed": false
   },
   "outputs": [],
   "source": [
    "import matplotlib.pyplot as plt\n",
    "%matplotlib inline"
   ]
  },
  {
   "cell_type": "code",
   "execution_count": 3,
   "metadata": {
    "collapsed": false
   },
   "outputs": [],
   "source": [
    "from nn import nn\n",
    "from nn import data_reader\n",
    "from tracklets import generate_tracklet\n"
   ]
  },
  {
   "cell_type": "markdown",
   "metadata": {},
   "source": [
    "#### Set up environment variables (Mac)\n",
    "\n",
    "Run this section for training/testing on my Mac"
   ]
  },
  {
   "cell_type": "code",
   "execution_count": 4,
   "metadata": {
    "collapsed": true
   },
   "outputs": [],
   "source": [
    "BATCH_SIZE = 1\n",
    "DATA_DIR = '/vol/didi/dataset2/Tracklets/1/2/'\n",
    "LOGDIR = '/vol/training/logs'\n",
    "TRAIN_DIR = '/vol/dataset2/Train/'\n",
    "PREDICT_DIR = '/vol/dataset2/Predict/'\n",
    "CSV='data.csv'\n",
    "CHECKPOINT_EVERY = 100\n",
    "NUM_STEPS = int(1e2)   # Run for 100 steps\n",
    "CKPT_FILE = 'model.ckpt'\n",
    "LEARNING_RATE = 1e-3\n",
    "KEEP_PROB = 0.8\n",
    "L2_REG = 0\n",
    "EPSILON = 0.001\n",
    "MOMENTUM = 0.9"
   ]
  },
  {
   "cell_type": "markdown",
   "metadata": {},
   "source": [
    "#### Set up environment variables (GCP)\n",
    "\n",
    "Run this for training/testing on GCP instance"
   ]
  },
  {
   "cell_type": "code",
   "execution_count": null,
   "metadata": {
    "collapsed": true
   },
   "outputs": [],
   "source": [
    "BATCH_SIZE = 1\n",
    "DATA_DIR = '/vol/dataset2/Didi-Release-2/Tracklets/1/2/'\n",
    "LOGDIR = '/vol/training/logs'\n",
    "TRAIN_DIR = '/vol/dataset2/Didi-Release-2/Train/'\n",
    "PREDICT_DIR = '/vol/dataset2/Didi-Release-2/Predict/'\n",
    "CSV='data.csv'\n",
    "CHECKPOINT_EVERY = 100\n",
    "NUM_STEPS = int(1e2)   # Run for 100 steps\n",
    "CKPT_FILE = 'model.ckpt'\n",
    "LEARNING_RATE = 1e-3\n",
    "KEEP_PROB = 0.8\n",
    "L2_REG = 0\n",
    "EPSILON = 0.001\n",
    "MOMENTUM = 0.9"
   ]
  },
  {
   "cell_type": "markdown",
   "metadata": {},
   "source": [
    "### Setup model\n",
    "\n",
    "This currently assumes u-net based model configured in nn/nn.py"
   ]
  },
  {
   "cell_type": "code",
   "execution_count": 5,
   "metadata": {
    "collapsed": false,
    "scrolled": false
   },
   "outputs": [
    {
     "data": {
      "image/svg+xml": [
       "<svg height=\"2308pt\" viewBox=\"0.00 0.00 547.81 2308.00\" width=\"548pt\" xmlns=\"http://www.w3.org/2000/svg\" xmlns:xlink=\"http://www.w3.org/1999/xlink\">\n",
       "<g class=\"graph\" id=\"graph0\" transform=\"scale(1 1) rotate(0) translate(4 2304)\">\n",
       "<title>G</title>\n",
       "<polygon fill=\"white\" points=\"-4,4 -4,-2304 543.81,-2304 543.81,4 -4,4\" stroke=\"none\"/>\n",
       "<!-- 5323150160 -->\n",
       "<g class=\"node\" id=\"node1\"><title>5323150160</title>\n",
       "<polygon fill=\"none\" points=\"397.309,-2263.5 397.309,-2299.5 525.671,-2299.5 525.671,-2263.5 397.309,-2263.5\" stroke=\"black\"/>\n",
       "<text font-family=\"Times,serif\" font-size=\"14.00\" text-anchor=\"middle\" x=\"461.49\" y=\"-2277.3\">input_1: InputLayer</text>\n",
       "</g>\n",
       "<!-- 5323152848 -->\n",
       "<g class=\"node\" id=\"node2\"><title>5323152848</title>\n",
       "<polygon fill=\"none\" points=\"398.464,-2190.5 398.464,-2226.5 524.516,-2226.5 524.516,-2190.5 398.464,-2190.5\" stroke=\"black\"/>\n",
       "<text font-family=\"Times,serif\" font-size=\"14.00\" text-anchor=\"middle\" x=\"461.49\" y=\"-2204.3\">conv2d_1: Conv2D</text>\n",
       "</g>\n",
       "<!-- 5323150160&#45;&gt;5323152848 -->\n",
       "<g class=\"edge\" id=\"edge1\"><title>5323150160-&gt;5323152848</title>\n",
       "<path d=\"M461.49,-2263.31C461.49,-2255.29 461.49,-2245.55 461.49,-2236.57\" fill=\"none\" stroke=\"black\"/>\n",
       "<polygon fill=\"black\" points=\"464.99,-2236.53 461.49,-2226.53 457.99,-2236.53 464.99,-2236.53\" stroke=\"black\"/>\n",
       "</g>\n",
       "<!-- 5323151504 -->\n",
       "<g class=\"node\" id=\"node3\"><title>5323151504</title>\n",
       "<polygon fill=\"none\" points=\"398.464,-2117.5 398.464,-2153.5 524.516,-2153.5 524.516,-2117.5 398.464,-2117.5\" stroke=\"black\"/>\n",
       "<text font-family=\"Times,serif\" font-size=\"14.00\" text-anchor=\"middle\" x=\"461.49\" y=\"-2131.3\">conv2d_2: Conv2D</text>\n",
       "</g>\n",
       "<!-- 5323152848&#45;&gt;5323151504 -->\n",
       "<g class=\"edge\" id=\"edge2\"><title>5323152848-&gt;5323151504</title>\n",
       "<path d=\"M461.49,-2190.31C461.49,-2182.29 461.49,-2172.55 461.49,-2163.57\" fill=\"none\" stroke=\"black\"/>\n",
       "<polygon fill=\"black\" points=\"464.99,-2163.53 461.49,-2153.53 457.99,-2163.53 464.99,-2163.53\" stroke=\"black\"/>\n",
       "</g>\n",
       "<!-- 5323151056 -->\n",
       "<g class=\"node\" id=\"node4\"><title>5323151056</title>\n",
       "<polygon fill=\"none\" points=\"288.685,-2044.5 288.685,-2080.5 500.295,-2080.5 500.295,-2044.5 288.685,-2044.5\" stroke=\"black\"/>\n",
       "<text font-family=\"Times,serif\" font-size=\"14.00\" text-anchor=\"middle\" x=\"394.49\" y=\"-2058.3\">max_pooling2d_1: MaxPooling2D</text>\n",
       "</g>\n",
       "<!-- 5323151504&#45;&gt;5323151056 -->\n",
       "<g class=\"edge\" id=\"edge3\"><title>5323151504-&gt;5323151056</title>\n",
       "<path d=\"M445.271,-2117.31C436.959,-2108.5 426.693,-2097.63 417.571,-2087.96\" fill=\"none\" stroke=\"black\"/>\n",
       "<polygon fill=\"black\" points=\"419.969,-2085.4 410.56,-2080.53 414.877,-2090.2 419.969,-2085.4\" stroke=\"black\"/>\n",
       "</g>\n",
       "<!-- 5329095120 -->\n",
       "<g class=\"node\" id=\"node29\"><title>5329095120</title>\n",
       "<polygon fill=\"none\" points=\"367.171,-219.5 367.171,-255.5 539.81,-255.5 539.81,-219.5 367.171,-219.5\" stroke=\"black\"/>\n",
       "<text font-family=\"Times,serif\" font-size=\"14.00\" text-anchor=\"middle\" x=\"453.49\" y=\"-233.3\">concatenate_4: Concatenate</text>\n",
       "</g>\n",
       "<!-- 5323151504&#45;&gt;5329095120 -->\n",
       "<g class=\"edge\" id=\"edge32\"><title>5323151504-&gt;5329095120</title>\n",
       "<path d=\"M481.519,-2117.03C491.384,-2107.37 502.608,-2094.58 509.49,-2081 528.071,-2044.34 528.49,-2031.6 528.49,-1990.5 528.49,-1990.5 528.49,-1990.5 528.49,-382.5 528.49,-341.401 529.467,-327.917 509.49,-292 503.312,-280.892 494.061,-270.692 484.848,-262.245\" fill=\"none\" stroke=\"black\"/>\n",
       "<polygon fill=\"black\" points=\"487.029,-259.503 477.187,-255.58 482.434,-264.784 487.029,-259.503\" stroke=\"black\"/>\n",
       "</g>\n",
       "<!-- 5323324176 -->\n",
       "<g class=\"node\" id=\"node5\"><title>5323324176</title>\n",
       "<polygon fill=\"none\" points=\"331.464,-1971.5 331.464,-2007.5 457.516,-2007.5 457.516,-1971.5 331.464,-1971.5\" stroke=\"black\"/>\n",
       "<text font-family=\"Times,serif\" font-size=\"14.00\" text-anchor=\"middle\" x=\"394.49\" y=\"-1985.3\">conv2d_3: Conv2D</text>\n",
       "</g>\n",
       "<!-- 5323151056&#45;&gt;5323324176 -->\n",
       "<g class=\"edge\" id=\"edge4\"><title>5323151056-&gt;5323324176</title>\n",
       "<path d=\"M394.49,-2044.31C394.49,-2036.29 394.49,-2026.55 394.49,-2017.57\" fill=\"none\" stroke=\"black\"/>\n",
       "<polygon fill=\"black\" points=\"397.99,-2017.53 394.49,-2007.53 390.99,-2017.53 397.99,-2017.53\" stroke=\"black\"/>\n",
       "</g>\n",
       "<!-- 4552519120 -->\n",
       "<g class=\"node\" id=\"node6\"><title>4552519120</title>\n",
       "<polygon fill=\"none\" points=\"331.464,-1898.5 331.464,-1934.5 457.516,-1934.5 457.516,-1898.5 331.464,-1898.5\" stroke=\"black\"/>\n",
       "<text font-family=\"Times,serif\" font-size=\"14.00\" text-anchor=\"middle\" x=\"394.49\" y=\"-1912.3\">conv2d_4: Conv2D</text>\n",
       "</g>\n",
       "<!-- 5323324176&#45;&gt;4552519120 -->\n",
       "<g class=\"edge\" id=\"edge5\"><title>5323324176-&gt;4552519120</title>\n",
       "<path d=\"M394.49,-1971.31C394.49,-1963.29 394.49,-1953.55 394.49,-1944.57\" fill=\"none\" stroke=\"black\"/>\n",
       "<polygon fill=\"black\" points=\"397.99,-1944.53 394.49,-1934.53 390.99,-1944.53 397.99,-1944.53\" stroke=\"black\"/>\n",
       "</g>\n",
       "<!-- 5323995920 -->\n",
       "<g class=\"node\" id=\"node7\"><title>5323995920</title>\n",
       "<polygon fill=\"none\" points=\"202.685,-1825.5 202.685,-1861.5 414.295,-1861.5 414.295,-1825.5 202.685,-1825.5\" stroke=\"black\"/>\n",
       "<text font-family=\"Times,serif\" font-size=\"14.00\" text-anchor=\"middle\" x=\"308.49\" y=\"-1839.3\">max_pooling2d_2: MaxPooling2D</text>\n",
       "</g>\n",
       "<!-- 4552519120&#45;&gt;5323995920 -->\n",
       "<g class=\"edge\" id=\"edge6\"><title>4552519120-&gt;5323995920</title>\n",
       "<path d=\"M373.672,-1898.31C362.686,-1889.24 349.04,-1877.98 337.077,-1868.1\" fill=\"none\" stroke=\"black\"/>\n",
       "<polygon fill=\"black\" points=\"339.057,-1865.2 329.117,-1861.53 334.6,-1870.59 339.057,-1865.2\" stroke=\"black\"/>\n",
       "</g>\n",
       "<!-- 5327915280 -->\n",
       "<g class=\"node\" id=\"node25\"><title>5327915280</title>\n",
       "<polygon fill=\"none\" points=\"293.171,-511.5 293.171,-547.5 465.81,-547.5 465.81,-511.5 293.171,-511.5\" stroke=\"black\"/>\n",
       "<text font-family=\"Times,serif\" font-size=\"14.00\" text-anchor=\"middle\" x=\"379.49\" y=\"-525.3\">concatenate_3: Concatenate</text>\n",
       "</g>\n",
       "<!-- 4552519120&#45;&gt;5327915280 -->\n",
       "<g class=\"edge\" id=\"edge27\"><title>4552519120-&gt;5327915280</title>\n",
       "<path d=\"M405.495,-1898.27C411.58,-1888.07 418.83,-1874.69 423.49,-1862 437.654,-1823.42 442.49,-1812.6 442.49,-1771.5 442.49,-1771.5 442.49,-1771.5 442.49,-674.5 442.49,-633.401 441.278,-621.05 423.49,-584 418.599,-573.813 411.37,-563.896 404.179,-555.423\" fill=\"none\" stroke=\"black\"/>\n",
       "<polygon fill=\"black\" points=\"406.638,-552.921 397.373,-547.781 401.41,-557.577 406.638,-552.921\" stroke=\"black\"/>\n",
       "</g>\n",
       "<!-- 5323997008 -->\n",
       "<g class=\"node\" id=\"node8\"><title>5323997008</title>\n",
       "<polygon fill=\"none\" points=\"245.464,-1752.5 245.464,-1788.5 371.516,-1788.5 371.516,-1752.5 245.464,-1752.5\" stroke=\"black\"/>\n",
       "<text font-family=\"Times,serif\" font-size=\"14.00\" text-anchor=\"middle\" x=\"308.49\" y=\"-1766.3\">conv2d_5: Conv2D</text>\n",
       "</g>\n",
       "<!-- 5323995920&#45;&gt;5323997008 -->\n",
       "<g class=\"edge\" id=\"edge7\"><title>5323995920-&gt;5323997008</title>\n",
       "<path d=\"M308.49,-1825.31C308.49,-1817.29 308.49,-1807.55 308.49,-1798.57\" fill=\"none\" stroke=\"black\"/>\n",
       "<polygon fill=\"black\" points=\"311.99,-1798.53 308.49,-1788.53 304.99,-1798.53 311.99,-1798.53\" stroke=\"black\"/>\n",
       "</g>\n",
       "<!-- 5324168528 -->\n",
       "<g class=\"node\" id=\"node9\"><title>5324168528</title>\n",
       "<polygon fill=\"none\" points=\"245.464,-1679.5 245.464,-1715.5 371.516,-1715.5 371.516,-1679.5 245.464,-1679.5\" stroke=\"black\"/>\n",
       "<text font-family=\"Times,serif\" font-size=\"14.00\" text-anchor=\"middle\" x=\"308.49\" y=\"-1693.3\">conv2d_6: Conv2D</text>\n",
       "</g>\n",
       "<!-- 5323997008&#45;&gt;5324168528 -->\n",
       "<g class=\"edge\" id=\"edge8\"><title>5323997008-&gt;5324168528</title>\n",
       "<path d=\"M308.49,-1752.31C308.49,-1744.29 308.49,-1734.55 308.49,-1725.57\" fill=\"none\" stroke=\"black\"/>\n",
       "<polygon fill=\"black\" points=\"311.99,-1725.53 308.49,-1715.53 304.99,-1725.53 311.99,-1725.53\" stroke=\"black\"/>\n",
       "</g>\n",
       "<!-- 5324049296 -->\n",
       "<g class=\"node\" id=\"node10\"><title>5324049296</title>\n",
       "<polygon fill=\"none\" points=\"116.685,-1606.5 116.685,-1642.5 328.295,-1642.5 328.295,-1606.5 116.685,-1606.5\" stroke=\"black\"/>\n",
       "<text font-family=\"Times,serif\" font-size=\"14.00\" text-anchor=\"middle\" x=\"222.49\" y=\"-1620.3\">max_pooling2d_3: MaxPooling2D</text>\n",
       "</g>\n",
       "<!-- 5324168528&#45;&gt;5324049296 -->\n",
       "<g class=\"edge\" id=\"edge9\"><title>5324168528-&gt;5324049296</title>\n",
       "<path d=\"M287.672,-1679.31C276.686,-1670.24 263.04,-1658.98 251.077,-1649.1\" fill=\"none\" stroke=\"black\"/>\n",
       "<polygon fill=\"black\" points=\"253.057,-1646.2 243.117,-1642.53 248.6,-1651.59 253.057,-1646.2\" stroke=\"black\"/>\n",
       "</g>\n",
       "<!-- 5327109904 -->\n",
       "<g class=\"node\" id=\"node21\"><title>5327109904</title>\n",
       "<polygon fill=\"none\" points=\"207.171,-803.5 207.171,-839.5 379.81,-839.5 379.81,-803.5 207.171,-803.5\" stroke=\"black\"/>\n",
       "<text font-family=\"Times,serif\" font-size=\"14.00\" text-anchor=\"middle\" x=\"293.49\" y=\"-817.3\">concatenate_2: Concatenate</text>\n",
       "</g>\n",
       "<!-- 5324168528&#45;&gt;5327109904 -->\n",
       "<g class=\"edge\" id=\"edge22\"><title>5324168528-&gt;5327109904</title>\n",
       "<path d=\"M319.495,-1679.27C325.58,-1669.07 332.83,-1655.69 337.49,-1643 351.654,-1604.42 356.49,-1593.6 356.49,-1552.5 356.49,-1552.5 356.49,-1552.5 356.49,-966.5 356.49,-925.401 355.278,-913.05 337.49,-876 332.599,-865.813 325.37,-855.896 318.179,-847.423\" fill=\"none\" stroke=\"black\"/>\n",
       "<polygon fill=\"black\" points=\"320.638,-844.921 311.373,-839.781 315.41,-849.577 320.638,-844.921\" stroke=\"black\"/>\n",
       "</g>\n",
       "<!-- 5324462160 -->\n",
       "<g class=\"node\" id=\"node11\"><title>5324462160</title>\n",
       "<polygon fill=\"none\" points=\"159.464,-1533.5 159.464,-1569.5 285.516,-1569.5 285.516,-1533.5 159.464,-1533.5\" stroke=\"black\"/>\n",
       "<text font-family=\"Times,serif\" font-size=\"14.00\" text-anchor=\"middle\" x=\"222.49\" y=\"-1547.3\">conv2d_7: Conv2D</text>\n",
       "</g>\n",
       "<!-- 5324049296&#45;&gt;5324462160 -->\n",
       "<g class=\"edge\" id=\"edge10\"><title>5324049296-&gt;5324462160</title>\n",
       "<path d=\"M222.49,-1606.31C222.49,-1598.29 222.49,-1588.55 222.49,-1579.57\" fill=\"none\" stroke=\"black\"/>\n",
       "<polygon fill=\"black\" points=\"225.99,-1579.53 222.49,-1569.53 218.99,-1579.53 225.99,-1579.53\" stroke=\"black\"/>\n",
       "</g>\n",
       "<!-- 5324812112 -->\n",
       "<g class=\"node\" id=\"node12\"><title>5324812112</title>\n",
       "<polygon fill=\"none\" points=\"159.464,-1460.5 159.464,-1496.5 285.516,-1496.5 285.516,-1460.5 159.464,-1460.5\" stroke=\"black\"/>\n",
       "<text font-family=\"Times,serif\" font-size=\"14.00\" text-anchor=\"middle\" x=\"222.49\" y=\"-1474.3\">conv2d_8: Conv2D</text>\n",
       "</g>\n",
       "<!-- 5324462160&#45;&gt;5324812112 -->\n",
       "<g class=\"edge\" id=\"edge11\"><title>5324462160-&gt;5324812112</title>\n",
       "<path d=\"M222.49,-1533.31C222.49,-1525.29 222.49,-1515.55 222.49,-1506.57\" fill=\"none\" stroke=\"black\"/>\n",
       "<polygon fill=\"black\" points=\"225.99,-1506.53 222.49,-1496.53 218.99,-1506.53 225.99,-1506.53\" stroke=\"black\"/>\n",
       "</g>\n",
       "<!-- 5325057488 -->\n",
       "<g class=\"node\" id=\"node13\"><title>5325057488</title>\n",
       "<polygon fill=\"none\" points=\"26.6851,-1387.5 26.6851,-1423.5 238.295,-1423.5 238.295,-1387.5 26.6851,-1387.5\" stroke=\"black\"/>\n",
       "<text font-family=\"Times,serif\" font-size=\"14.00\" text-anchor=\"middle\" x=\"132.49\" y=\"-1401.3\">max_pooling2d_4: MaxPooling2D</text>\n",
       "</g>\n",
       "<!-- 5324812112&#45;&gt;5325057488 -->\n",
       "<g class=\"edge\" id=\"edge12\"><title>5324812112-&gt;5325057488</title>\n",
       "<path d=\"M200.704,-1460.31C189.096,-1451.16 174.651,-1439.76 162.046,-1429.82\" fill=\"none\" stroke=\"black\"/>\n",
       "<polygon fill=\"black\" points=\"164.095,-1426.97 154.076,-1423.53 159.759,-1432.47 164.095,-1426.97\" stroke=\"black\"/>\n",
       "</g>\n",
       "<!-- 5325750672 -->\n",
       "<g class=\"node\" id=\"node17\"><title>5325750672</title>\n",
       "<polygon fill=\"none\" points=\"121.171,-1095.5 121.171,-1131.5 293.81,-1131.5 293.81,-1095.5 121.171,-1095.5\" stroke=\"black\"/>\n",
       "<text font-family=\"Times,serif\" font-size=\"14.00\" text-anchor=\"middle\" x=\"207.49\" y=\"-1109.3\">concatenate_1: Concatenate</text>\n",
       "</g>\n",
       "<!-- 5324812112&#45;&gt;5325750672 -->\n",
       "<g class=\"edge\" id=\"edge17\"><title>5324812112-&gt;5325750672</title>\n",
       "<path d=\"M232.204,-1460.38C246.229,-1434.01 270.49,-1381.46 270.49,-1333.5 270.49,-1333.5 270.49,-1333.5 270.49,-1258.5 270.49,-1217.4 269.278,-1205.05 251.49,-1168 246.599,-1157.81 239.37,-1147.9 232.179,-1139.42\" fill=\"none\" stroke=\"black\"/>\n",
       "<polygon fill=\"black\" points=\"234.638,-1136.92 225.373,-1131.78 229.41,-1141.58 234.638,-1136.92\" stroke=\"black\"/>\n",
       "</g>\n",
       "<!-- 5325222800 -->\n",
       "<g class=\"node\" id=\"node14\"><title>5325222800</title>\n",
       "<polygon fill=\"none\" points=\"62.4644,-1314.5 62.4644,-1350.5 188.516,-1350.5 188.516,-1314.5 62.4644,-1314.5\" stroke=\"black\"/>\n",
       "<text font-family=\"Times,serif\" font-size=\"14.00\" text-anchor=\"middle\" x=\"125.49\" y=\"-1328.3\">conv2d_9: Conv2D</text>\n",
       "</g>\n",
       "<!-- 5325057488&#45;&gt;5325222800 -->\n",
       "<g class=\"edge\" id=\"edge13\"><title>5325057488-&gt;5325222800</title>\n",
       "<path d=\"M130.796,-1387.31C130.005,-1379.29 129.044,-1369.55 128.159,-1360.57\" fill=\"none\" stroke=\"black\"/>\n",
       "<polygon fill=\"black\" points=\"131.633,-1360.14 127.169,-1350.53 124.667,-1360.82 131.633,-1360.14\" stroke=\"black\"/>\n",
       "</g>\n",
       "<!-- 5325399760 -->\n",
       "<g class=\"node\" id=\"node15\"><title>5325399760</title>\n",
       "<polygon fill=\"none\" points=\"56.9644,-1241.5 56.9644,-1277.5 190.016,-1277.5 190.016,-1241.5 56.9644,-1241.5\" stroke=\"black\"/>\n",
       "<text font-family=\"Times,serif\" font-size=\"14.00\" text-anchor=\"middle\" x=\"123.49\" y=\"-1255.3\">conv2d_10: Conv2D</text>\n",
       "</g>\n",
       "<!-- 5325222800&#45;&gt;5325399760 -->\n",
       "<g class=\"edge\" id=\"edge14\"><title>5325222800-&gt;5325399760</title>\n",
       "<path d=\"M125.006,-1314.31C124.78,-1306.29 124.506,-1296.55 124.253,-1287.57\" fill=\"none\" stroke=\"black\"/>\n",
       "<polygon fill=\"black\" points=\"127.75,-1287.43 123.97,-1277.53 120.753,-1287.62 127.75,-1287.43\" stroke=\"black\"/>\n",
       "</g>\n",
       "<!-- 5325110800 -->\n",
       "<g class=\"node\" id=\"node16\"><title>5325110800</title>\n",
       "<polygon fill=\"none\" points=\"0,-1168.5 0,-1204.5 242.98,-1204.5 242.98,-1168.5 0,-1168.5\" stroke=\"black\"/>\n",
       "<text font-family=\"Times,serif\" font-size=\"14.00\" text-anchor=\"middle\" x=\"121.49\" y=\"-1182.3\">conv2d_transpose_1: Conv2DTranspose</text>\n",
       "</g>\n",
       "<!-- 5325399760&#45;&gt;5325110800 -->\n",
       "<g class=\"edge\" id=\"edge15\"><title>5325399760-&gt;5325110800</title>\n",
       "<path d=\"M123.006,-1241.31C122.78,-1233.29 122.506,-1223.55 122.253,-1214.57\" fill=\"none\" stroke=\"black\"/>\n",
       "<polygon fill=\"black\" points=\"125.75,-1214.43 121.97,-1204.53 118.753,-1214.62 125.75,-1214.43\" stroke=\"black\"/>\n",
       "</g>\n",
       "<!-- 5325110800&#45;&gt;5325750672 -->\n",
       "<g class=\"edge\" id=\"edge16\"><title>5325110800-&gt;5325750672</title>\n",
       "<path d=\"M142.308,-1168.31C153.295,-1159.24 166.941,-1147.98 178.904,-1138.1\" fill=\"none\" stroke=\"black\"/>\n",
       "<polygon fill=\"black\" points=\"181.38,-1140.59 186.864,-1131.53 176.924,-1135.2 181.38,-1140.59\" stroke=\"black\"/>\n",
       "</g>\n",
       "<!-- 5323150416 -->\n",
       "<g class=\"node\" id=\"node18\"><title>5323150416</title>\n",
       "<polygon fill=\"none\" points=\"141.221,-1022.5 141.221,-1058.5 273.76,-1058.5 273.76,-1022.5 141.221,-1022.5\" stroke=\"black\"/>\n",
       "<text font-family=\"Times,serif\" font-size=\"14.00\" text-anchor=\"middle\" x=\"207.49\" y=\"-1036.3\">conv2d_11: Conv2D</text>\n",
       "</g>\n",
       "<!-- 5325750672&#45;&gt;5323150416 -->\n",
       "<g class=\"edge\" id=\"edge18\"><title>5325750672-&gt;5323150416</title>\n",
       "<path d=\"M207.49,-1095.31C207.49,-1087.29 207.49,-1077.55 207.49,-1068.57\" fill=\"none\" stroke=\"black\"/>\n",
       "<polygon fill=\"black\" points=\"210.99,-1068.53 207.49,-1058.53 203.99,-1068.53 210.99,-1068.53\" stroke=\"black\"/>\n",
       "</g>\n",
       "<!-- 5326237328 -->\n",
       "<g class=\"node\" id=\"node19\"><title>5326237328</title>\n",
       "<polygon fill=\"none\" points=\"140.964,-949.5 140.964,-985.5 274.016,-985.5 274.016,-949.5 140.964,-949.5\" stroke=\"black\"/>\n",
       "<text font-family=\"Times,serif\" font-size=\"14.00\" text-anchor=\"middle\" x=\"207.49\" y=\"-963.3\">conv2d_12: Conv2D</text>\n",
       "</g>\n",
       "<!-- 5323150416&#45;&gt;5326237328 -->\n",
       "<g class=\"edge\" id=\"edge19\"><title>5323150416-&gt;5326237328</title>\n",
       "<path d=\"M207.49,-1022.31C207.49,-1014.29 207.49,-1004.55 207.49,-995.569\" fill=\"none\" stroke=\"black\"/>\n",
       "<polygon fill=\"black\" points=\"210.99,-995.529 207.49,-985.529 203.99,-995.529 210.99,-995.529\" stroke=\"black\"/>\n",
       "</g>\n",
       "<!-- 5326445520 -->\n",
       "<g class=\"node\" id=\"node20\"><title>5326445520</title>\n",
       "<polygon fill=\"none\" points=\"86,-876.5 86,-912.5 328.98,-912.5 328.98,-876.5 86,-876.5\" stroke=\"black\"/>\n",
       "<text font-family=\"Times,serif\" font-size=\"14.00\" text-anchor=\"middle\" x=\"207.49\" y=\"-890.3\">conv2d_transpose_2: Conv2DTranspose</text>\n",
       "</g>\n",
       "<!-- 5326237328&#45;&gt;5326445520 -->\n",
       "<g class=\"edge\" id=\"edge20\"><title>5326237328-&gt;5326445520</title>\n",
       "<path d=\"M207.49,-949.313C207.49,-941.289 207.49,-931.547 207.49,-922.569\" fill=\"none\" stroke=\"black\"/>\n",
       "<polygon fill=\"black\" points=\"210.99,-922.529 207.49,-912.529 203.99,-922.529 210.99,-922.529\" stroke=\"black\"/>\n",
       "</g>\n",
       "<!-- 5326445520&#45;&gt;5327109904 -->\n",
       "<g class=\"edge\" id=\"edge21\"><title>5326445520-&gt;5327109904</title>\n",
       "<path d=\"M228.308,-876.313C239.295,-867.243 252.941,-855.977 264.904,-846.1\" fill=\"none\" stroke=\"black\"/>\n",
       "<polygon fill=\"black\" points=\"267.38,-848.594 272.864,-839.529 262.924,-843.196 267.38,-848.594\" stroke=\"black\"/>\n",
       "</g>\n",
       "<!-- 5327060240 -->\n",
       "<g class=\"node\" id=\"node22\"><title>5327060240</title>\n",
       "<polygon fill=\"none\" points=\"226.964,-730.5 226.964,-766.5 360.016,-766.5 360.016,-730.5 226.964,-730.5\" stroke=\"black\"/>\n",
       "<text font-family=\"Times,serif\" font-size=\"14.00\" text-anchor=\"middle\" x=\"293.49\" y=\"-744.3\">conv2d_13: Conv2D</text>\n",
       "</g>\n",
       "<!-- 5327109904&#45;&gt;5327060240 -->\n",
       "<g class=\"edge\" id=\"edge23\"><title>5327109904-&gt;5327060240</title>\n",
       "<path d=\"M293.49,-803.313C293.49,-795.289 293.49,-785.547 293.49,-776.569\" fill=\"none\" stroke=\"black\"/>\n",
       "<polygon fill=\"black\" points=\"296.99,-776.529 293.49,-766.529 289.99,-776.529 296.99,-776.529\" stroke=\"black\"/>\n",
       "</g>\n",
       "<!-- 5327490128 -->\n",
       "<g class=\"node\" id=\"node23\"><title>5327490128</title>\n",
       "<polygon fill=\"none\" points=\"226.964,-657.5 226.964,-693.5 360.016,-693.5 360.016,-657.5 226.964,-657.5\" stroke=\"black\"/>\n",
       "<text font-family=\"Times,serif\" font-size=\"14.00\" text-anchor=\"middle\" x=\"293.49\" y=\"-671.3\">conv2d_14: Conv2D</text>\n",
       "</g>\n",
       "<!-- 5327060240&#45;&gt;5327490128 -->\n",
       "<g class=\"edge\" id=\"edge24\"><title>5327060240-&gt;5327490128</title>\n",
       "<path d=\"M293.49,-730.313C293.49,-722.289 293.49,-712.547 293.49,-703.569\" fill=\"none\" stroke=\"black\"/>\n",
       "<polygon fill=\"black\" points=\"296.99,-703.529 293.49,-693.529 289.99,-703.529 296.99,-703.529\" stroke=\"black\"/>\n",
       "</g>\n",
       "<!-- 5326699728 -->\n",
       "<g class=\"node\" id=\"node24\"><title>5326699728</title>\n",
       "<polygon fill=\"none\" points=\"172,-584.5 172,-620.5 414.98,-620.5 414.98,-584.5 172,-584.5\" stroke=\"black\"/>\n",
       "<text font-family=\"Times,serif\" font-size=\"14.00\" text-anchor=\"middle\" x=\"293.49\" y=\"-598.3\">conv2d_transpose_3: Conv2DTranspose</text>\n",
       "</g>\n",
       "<!-- 5327490128&#45;&gt;5326699728 -->\n",
       "<g class=\"edge\" id=\"edge25\"><title>5327490128-&gt;5326699728</title>\n",
       "<path d=\"M293.49,-657.313C293.49,-649.289 293.49,-639.547 293.49,-630.569\" fill=\"none\" stroke=\"black\"/>\n",
       "<polygon fill=\"black\" points=\"296.99,-630.529 293.49,-620.529 289.99,-630.529 296.99,-630.529\" stroke=\"black\"/>\n",
       "</g>\n",
       "<!-- 5326699728&#45;&gt;5327915280 -->\n",
       "<g class=\"edge\" id=\"edge26\"><title>5326699728-&gt;5327915280</title>\n",
       "<path d=\"M314.308,-584.313C325.295,-575.243 338.941,-563.977 350.904,-554.1\" fill=\"none\" stroke=\"black\"/>\n",
       "<polygon fill=\"black\" points=\"353.38,-556.594 358.864,-547.529 348.924,-551.196 353.38,-556.594\" stroke=\"black\"/>\n",
       "</g>\n",
       "<!-- 5328669904 -->\n",
       "<g class=\"node\" id=\"node26\"><title>5328669904</title>\n",
       "<polygon fill=\"none\" points=\"312.964,-438.5 312.964,-474.5 446.016,-474.5 446.016,-438.5 312.964,-438.5\" stroke=\"black\"/>\n",
       "<text font-family=\"Times,serif\" font-size=\"14.00\" text-anchor=\"middle\" x=\"379.49\" y=\"-452.3\">conv2d_15: Conv2D</text>\n",
       "</g>\n",
       "<!-- 5327915280&#45;&gt;5328669904 -->\n",
       "<g class=\"edge\" id=\"edge28\"><title>5327915280-&gt;5328669904</title>\n",
       "<path d=\"M379.49,-511.313C379.49,-503.289 379.49,-493.547 379.49,-484.569\" fill=\"none\" stroke=\"black\"/>\n",
       "<polygon fill=\"black\" points=\"382.99,-484.529 379.49,-474.529 375.99,-484.529 382.99,-484.529\" stroke=\"black\"/>\n",
       "</g>\n",
       "<!-- 5327913552 -->\n",
       "<g class=\"node\" id=\"node27\"><title>5327913552</title>\n",
       "<polygon fill=\"none\" points=\"312.964,-365.5 312.964,-401.5 446.016,-401.5 446.016,-365.5 312.964,-365.5\" stroke=\"black\"/>\n",
       "<text font-family=\"Times,serif\" font-size=\"14.00\" text-anchor=\"middle\" x=\"379.49\" y=\"-379.3\">conv2d_16: Conv2D</text>\n",
       "</g>\n",
       "<!-- 5328669904&#45;&gt;5327913552 -->\n",
       "<g class=\"edge\" id=\"edge29\"><title>5328669904-&gt;5327913552</title>\n",
       "<path d=\"M379.49,-438.313C379.49,-430.289 379.49,-420.547 379.49,-411.569\" fill=\"none\" stroke=\"black\"/>\n",
       "<polygon fill=\"black\" points=\"382.99,-411.529 379.49,-401.529 375.99,-411.529 382.99,-411.529\" stroke=\"black\"/>\n",
       "</g>\n",
       "<!-- 5328215632 -->\n",
       "<g class=\"node\" id=\"node28\"><title>5328215632</title>\n",
       "<polygon fill=\"none\" points=\"258,-292.5 258,-328.5 500.98,-328.5 500.98,-292.5 258,-292.5\" stroke=\"black\"/>\n",
       "<text font-family=\"Times,serif\" font-size=\"14.00\" text-anchor=\"middle\" x=\"379.49\" y=\"-306.3\">conv2d_transpose_4: Conv2DTranspose</text>\n",
       "</g>\n",
       "<!-- 5327913552&#45;&gt;5328215632 -->\n",
       "<g class=\"edge\" id=\"edge30\"><title>5327913552-&gt;5328215632</title>\n",
       "<path d=\"M379.49,-365.313C379.49,-357.289 379.49,-347.547 379.49,-338.569\" fill=\"none\" stroke=\"black\"/>\n",
       "<polygon fill=\"black\" points=\"382.99,-338.529 379.49,-328.529 375.99,-338.529 382.99,-338.529\" stroke=\"black\"/>\n",
       "</g>\n",
       "<!-- 5328215632&#45;&gt;5329095120 -->\n",
       "<g class=\"edge\" id=\"edge31\"><title>5328215632-&gt;5329095120</title>\n",
       "<path d=\"M397.404,-292.313C406.675,-283.417 418.148,-272.409 428.297,-262.672\" fill=\"none\" stroke=\"black\"/>\n",
       "<polygon fill=\"black\" points=\"430.949,-264.978 435.742,-255.529 426.103,-259.927 430.949,-264.978\" stroke=\"black\"/>\n",
       "</g>\n",
       "<!-- 5329512528 -->\n",
       "<g class=\"node\" id=\"node30\"><title>5329512528</title>\n",
       "<polygon fill=\"none\" points=\"386.964,-146.5 386.964,-182.5 520.016,-182.5 520.016,-146.5 386.964,-146.5\" stroke=\"black\"/>\n",
       "<text font-family=\"Times,serif\" font-size=\"14.00\" text-anchor=\"middle\" x=\"453.49\" y=\"-160.3\">conv2d_17: Conv2D</text>\n",
       "</g>\n",
       "<!-- 5329095120&#45;&gt;5329512528 -->\n",
       "<g class=\"edge\" id=\"edge33\"><title>5329095120-&gt;5329512528</title>\n",
       "<path d=\"M453.49,-219.313C453.49,-211.289 453.49,-201.547 453.49,-192.569\" fill=\"none\" stroke=\"black\"/>\n",
       "<polygon fill=\"black\" points=\"456.99,-192.529 453.49,-182.529 449.99,-192.529 456.99,-192.529\" stroke=\"black\"/>\n",
       "</g>\n",
       "<!-- 5329769936 -->\n",
       "<g class=\"node\" id=\"node31\"><title>5329769936</title>\n",
       "<polygon fill=\"none\" points=\"386.964,-73.5 386.964,-109.5 520.016,-109.5 520.016,-73.5 386.964,-73.5\" stroke=\"black\"/>\n",
       "<text font-family=\"Times,serif\" font-size=\"14.00\" text-anchor=\"middle\" x=\"453.49\" y=\"-87.3\">conv2d_18: Conv2D</text>\n",
       "</g>\n",
       "<!-- 5329512528&#45;&gt;5329769936 -->\n",
       "<g class=\"edge\" id=\"edge34\"><title>5329512528-&gt;5329769936</title>\n",
       "<path d=\"M453.49,-146.313C453.49,-138.289 453.49,-128.547 453.49,-119.569\" fill=\"none\" stroke=\"black\"/>\n",
       "<polygon fill=\"black\" points=\"456.99,-119.529 453.49,-109.529 449.99,-119.529 456.99,-119.529\" stroke=\"black\"/>\n",
       "</g>\n",
       "<!-- 5329046544 -->\n",
       "<g class=\"node\" id=\"node32\"><title>5329046544</title>\n",
       "<polygon fill=\"none\" points=\"386.964,-0.5 386.964,-36.5 520.016,-36.5 520.016,-0.5 386.964,-0.5\" stroke=\"black\"/>\n",
       "<text font-family=\"Times,serif\" font-size=\"14.00\" text-anchor=\"middle\" x=\"453.49\" y=\"-14.3\">conv2d_19: Conv2D</text>\n",
       "</g>\n",
       "<!-- 5329769936&#45;&gt;5329046544 -->\n",
       "<g class=\"edge\" id=\"edge35\"><title>5329769936-&gt;5329046544</title>\n",
       "<path d=\"M453.49,-73.3129C453.49,-65.2895 453.49,-55.5475 453.49,-46.5691\" fill=\"none\" stroke=\"black\"/>\n",
       "<polygon fill=\"black\" points=\"456.99,-46.5288 453.49,-36.5288 449.99,-46.5289 456.99,-46.5288\" stroke=\"black\"/>\n",
       "</g>\n",
       "</g>\n",
       "</svg>"
      ],
      "text/plain": [
       "<IPython.core.display.SVG object>"
      ]
     },
     "execution_count": 5,
     "metadata": {},
     "output_type": "execute_result"
    }
   ],
   "source": [
    "LossHistory, model = nn.top_nn()\n",
    "# summary = model.summary()\n",
    "SVG(model_to_dot(model).create(prog='dot', format='svg'))"
   ]
  },
  {
   "cell_type": "markdown",
   "metadata": {},
   "source": [
    "### Setup data_reader() for loading data"
   ]
  },
  {
   "cell_type": "code",
   "execution_count": 6,
   "metadata": {
    "collapsed": false
   },
   "outputs": [
    {
     "name": "stdout",
     "output_type": "stream",
     "text": [
      "Parsing Tracklet file /vol/didi/dataset2/Tracklets/1/2/tracklet_labels.xml\n",
      "File contains 1 Tracklets\n",
      "Loaded 1 Tracklets\n"
     ]
    }
   ],
   "source": [
    "data_reader = data_reader.DataReader(DATA_DIR)"
   ]
  },
  {
   "cell_type": "markdown",
   "metadata": {},
   "source": [
    "Load a single training sample to get things moving"
   ]
  },
  {
   "cell_type": "code",
   "execution_count": 7,
   "metadata": {
    "collapsed": true
   },
   "outputs": [],
   "source": [
    "xs, ys = data_reader.load_train_batch(batch_size=BATCH_SIZE)"
   ]
  },
  {
   "cell_type": "markdown",
   "metadata": {},
   "source": [
    "Display info about the training data:\n",
    "\n",
    "* xs = `pointcloud.npy` data based on the format created by `sensor_pipeline/extract_pointclouds.py`\n",
    "* ys = mask of obstacle in (0,1) format, where 0=background and 1=obstacle (car)"
   ]
  },
  {
   "cell_type": "code",
   "execution_count": 8,
   "metadata": {
    "collapsed": false
   },
   "outputs": [
    {
     "name": "stdout",
     "output_type": "stream",
     "text": [
      "xs.shape=(1, 400, 400, 8)\n",
      "ys.shape=(1, 400, 400, 1)\n"
     ]
    }
   ],
   "source": [
    "print ('xs.shape={}'.format(xs.shape))\n",
    "print ('ys.shape={}'.format(ys.shape))"
   ]
  },
  {
   "cell_type": "markdown",
   "metadata": {},
   "source": [
    "Render the training mask and the respective point cloud image (generated by `pointcloud_utils/create_pointcloud_image.py`)"
   ]
  },
  {
   "cell_type": "code",
   "execution_count": 9,
   "metadata": {
    "collapsed": false
   },
   "outputs": [],
   "source": [
    "mask=ys[0,:,:,0]\n",
    "timestamp=''\n",
    "pointcloud_image_file=os.path.join(DATA_DIR, 'processed', 'lidar_top_img', '1490991281474291000.png')"
   ]
  },
  {
   "cell_type": "code",
   "execution_count": 10,
   "metadata": {
    "collapsed": false
   },
   "outputs": [
    {
     "name": "stdout",
     "output_type": "stream",
     "text": [
      "[[ 0.  0.  0. ...,  0.  0.  0.]\n",
      " [ 0.  0.  0. ...,  0.  0.  0.]\n",
      " [ 0.  0.  0. ...,  0.  0.  0.]\n",
      " ..., \n",
      " [ 0.  0.  0. ...,  0.  0.  0.]\n",
      " [ 0.  0.  0. ...,  0.  0.  0.]\n",
      " [ 0.  0.  0. ...,  0.  0.  0.]]\n"
     ]
    }
   ],
   "source": [
    "print (mask)"
   ]
  },
  {
   "cell_type": "code",
   "execution_count": 11,
   "metadata": {
    "collapsed": false
   },
   "outputs": [
    {
     "name": "stdout",
     "output_type": "stream",
     "text": [
      "(400, 400)\n"
     ]
    },
    {
     "data": {
      "image/png": "[encoded data removed]",
      "text/plain": [
       "<matplotlib.figure.Figure at 0x13f1f8c50>"
      ]
     },
     "metadata": {},
     "output_type": "display_data"
    }
   ],
   "source": [
    "print (mask.shape)\n",
    "\n",
    "plt.axis(\"off\")\n",
    "plt.imshow(mask)\n",
    "plt.show()"
   ]
  },
  {
   "cell_type": "code",
   "execution_count": null,
   "metadata": {
    "collapsed": true
   },
   "outputs": [],
   "source": []
  }
 ],
 "metadata": {
  "kernelspec": {
   "display_name": "Python 2",
   "language": "python",
   "name": "python2"
  },
  "language_info": {
   "codemirror_mode": {
    "name": "ipython",
    "version": 2
   },
   "file_extension": ".py",
   "mimetype": "text/x-python",
   "name": "python",
   "nbconvert_exporter": "python",
   "pygments_lexer": "ipython2",
   "version": "2.7.11"
  }
 },
 "nbformat": 4,
 "nbformat_minor": 0
}
